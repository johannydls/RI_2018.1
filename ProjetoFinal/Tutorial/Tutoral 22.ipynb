{
 "cells": [
  {
   "cell_type": "code",
   "execution_count": 1,
   "metadata": {},
   "outputs": [],
   "source": [
    "import pandas as pd\n",
    "import numpy as np\n",
    "import nltk\n",
    "\n",
    "from nltk.corpus import stopwords\n",
    "\n",
    "import matplotlib.pyplot as plt\n",
    "\n",
    "from sklearn.feature_extraction.text import TfidfVectorizer\n",
    "from sklearn.cluster import KMeans\n",
    "from sklearn.metrics import adjusted_rand_score"
   ]
  },
  {
   "cell_type": "markdown",
   "metadata": {},
   "source": [
    "* https://pythonprogramminglanguage.com/kmeans-text-clustering/\n",
    "\n",
    "* https://share.pythonprogramminglanguage.com/download-machine-learning-examples/\n",
    "\n",
    "* https://pythonprogramminglanguage.com/kmeans-elbow-method/"
   ]
  },
  {
   "cell_type": "code",
   "execution_count": 88,
   "metadata": {},
   "outputs": [],
   "source": [
    "#nltk.download('stopwords')"
   ]
  },
  {
   "cell_type": "code",
   "execution_count": 2,
   "metadata": {},
   "outputs": [],
   "source": [
    "documents = [\"This little kitty came to play when I was eating at a restaurant.\",\n",
    "             \"Merley has the best squooshy kitten belly.\",\n",
    "             \"Google Translate app is incredible.\",\n",
    "             \"If you open 100 tab in google you get a smiley face.\",\n",
    "             \"Best cat photo I've ever taken.\",\n",
    "             \"Climbing ninja cat.\",\n",
    "             \"Impressed with google map feedback.\",\n",
    "             \"Key promoter extension for Google Chrome.\"]"
   ]
  },
  {
   "cell_type": "code",
   "execution_count": null,
   "metadata": {},
   "outputs": [],
   "source": []
  },
  {
   "cell_type": "code",
   "execution_count": 3,
   "metadata": {},
   "outputs": [],
   "source": [
    "dataset = pd.read_csv('../../data/estadao_noticias_eleicao.csv', encoding=\"utf-8\")\n",
    "dataset = dataset.replace(np.nan, '', regex=True)\n",
    "documentos = dataset.titulo + \" \" + dataset.subTitulo + \" \" + dataset.conteudo"
   ]
  },
  {
   "cell_type": "code",
   "execution_count": 14,
   "metadata": {},
   "outputs": [],
   "source": [
    "#print(documentos)"
   ]
  },
  {
   "cell_type": "code",
   "execution_count": 5,
   "metadata": {},
   "outputs": [],
   "source": [
    "vectorizer = TfidfVectorizer(stop_words=stopwords.words('portuguese'),analyzer='word',ngram_range=(1, 1), lowercase=True, use_idf=True)\n",
    "X = vectorizer.fit_transform(documentos)"
   ]
  },
  {
   "cell_type": "code",
   "execution_count": null,
   "metadata": {},
   "outputs": [],
   "source": []
  },
  {
   "cell_type": "code",
   "execution_count": 17,
   "metadata": {},
   "outputs": [
    {
     "data": {
      "text/plain": [
       "KMeans(algorithm='auto', copy_x=True, init='k-means++', max_iter=100,\n",
       "    n_clusters=6, n_init=1, n_jobs=1, precompute_distances='auto',\n",
       "    random_state=None, tol=0.0001, verbose=0)"
      ]
     },
     "execution_count": 17,
     "metadata": {},
     "output_type": "execute_result"
    }
   ],
   "source": [
    "true_k = 6\n",
    "model = KMeans(n_clusters=true_k, init='k-means++',max_iter=100, n_init=1)\n",
    "model.fit(X)"
   ]
  },
  {
   "cell_type": "code",
   "execution_count": 18,
   "metadata": {},
   "outputs": [
    {
     "name": "stdout",
     "output_type": "stream",
     "text": [
      "Top termos por cluster: \n",
      "\n",
      "Cluster 0: \n",
      "federal\n",
      "eleitoral\n",
      "presidente\n",
      "justiça\n",
      "governo\n",
      "sobre\n",
      "ser\n",
      "ministro\n",
      "paulo\n",
      "estado\n",
      "\n",
      "Cluster 1: \n",
      "petrobrás\n",
      "cpi\n",
      "costa\n",
      "diretor\n",
      "estatal\n",
      "youssef\n",
      "ex\n",
      "lava\n",
      "presidente\n",
      "jato\n",
      "\n",
      "Cluster 2: \n",
      "fotos\n",
      "acesse\n",
      "galerias\n",
      "especiais\n",
      "estadão\n",
      "eventos\n",
      "veja\n",
      "principais\n",
      "mundo\n",
      "dia\n",
      "\n",
      "Cluster 3: \n",
      "dilma\n",
      "aécio\n",
      "presidente\n",
      "governo\n",
      "disse\n",
      "pt\n",
      "campanha\n",
      "lula\n",
      "psdb\n",
      "candidato\n",
      "\n",
      "Cluster 4: \n",
      "marina\n",
      "campos\n",
      "psb\n",
      "aécio\n",
      "candidata\n",
      "dilma\n",
      "disse\n",
      "ex\n",
      "campanha\n",
      "silva\n",
      "\n",
      "Cluster 5: \n",
      "pmdb\n",
      "presidente\n",
      "dilma\n",
      "governo\n",
      "pt\n",
      "câmara\n",
      "partido\n",
      "pezão\n",
      "rio\n",
      "temer\n",
      "\n",
      "\n"
     ]
    }
   ],
   "source": [
    "print(\"Top termos por cluster: \")\n",
    "order_centroids = model.cluster_centers_.argsort()[:,::-1]\n",
    "terms = vectorizer.get_feature_names()\n",
    "\n",
    "for i in range(true_k):\n",
    "    print(\"\\nCluster %d: \" % i),\n",
    "    for ind in order_centroids[i, :10]:\n",
    "        print('%s' % terms[ind]),\n",
    "    print\n",
    "\n",
    "print(\"\\n\")"
   ]
  },
  {
   "cell_type": "code",
   "execution_count": null,
   "metadata": {},
   "outputs": [],
   "source": []
  },
  {
   "cell_type": "code",
   "execution_count": 13,
   "metadata": {},
   "outputs": [
    {
     "name": "stdout",
     "output_type": "stream",
     "text": [
      "[1]\n"
     ]
    }
   ],
   "source": []
  },
  {
   "cell_type": "code",
   "execution_count": null,
   "metadata": {},
   "outputs": [],
   "source": []
  }
 ],
 "metadata": {
  "kernelspec": {
   "display_name": "Python 3",
   "language": "python",
   "name": "python3"
  },
  "language_info": {
   "codemirror_mode": {
    "name": "ipython",
    "version": 3
   },
   "file_extension": ".py",
   "mimetype": "text/x-python",
   "name": "python",
   "nbconvert_exporter": "python",
   "pygments_lexer": "ipython3",
   "version": "3.6.5"
  }
 },
 "nbformat": 4,
 "nbformat_minor": 2
}
