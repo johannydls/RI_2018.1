{
 "cells": [
  {
   "cell_type": "code",
   "execution_count": 2,
   "metadata": {},
   "outputs": [],
   "source": [
    "import matplotlib.pyplot as plt\n",
    "import seaborn as sns\n",
    "import pandas as pd\n",
    "import numpy as np\n",
    "%matplotlib inline"
   ]
  },
  {
   "cell_type": "code",
   "execution_count": 3,
   "metadata": {},
   "outputs": [],
   "source": [
    "#Load make_blobs to simulate data\n",
    "from sklearn.datasets import make_blobs\n",
    "\n",
    "#Load decomposition to do PCA analysis with sklearn\n",
    "from sklearn import decomposition"
   ]
  },
  {
   "cell_type": "code",
   "execution_count": 11,
   "metadata": {},
   "outputs": [],
   "source": [
    "X1, Y1 = make_blobs(n_features=10,\n",
    "                   n_samples=100,\n",
    "                   centers=4,\n",
    "                   random_state=4,\n",
    "                   cluster_std=2)\n",
    "\n"
   ]
  },
  {
   "cell_type": "code",
   "execution_count": 22,
   "metadata": {},
   "outputs": [],
   "source": [
    "pca = decomposition.PCA(n_components=5)\n",
    "pc = pca.fit_transform(X1)"
   ]
  },
  {
   "cell_type": "code",
   "execution_count": 24,
   "metadata": {},
   "outputs": [
    {
     "data": {
      "text/html": [
       "<div>\n",
       "<style scoped>\n",
       "    .dataframe tbody tr th:only-of-type {\n",
       "        vertical-align: middle;\n",
       "    }\n",
       "\n",
       "    .dataframe tbody tr th {\n",
       "        vertical-align: top;\n",
       "    }\n",
       "\n",
       "    .dataframe thead th {\n",
       "        text-align: right;\n",
       "    }\n",
       "</style>\n",
       "<table border=\"1\" class=\"dataframe\">\n",
       "  <thead>\n",
       "    <tr style=\"text-align: right;\">\n",
       "      <th></th>\n",
       "      <th>PC1</th>\n",
       "      <th>PC2</th>\n",
       "      <th>PC3</th>\n",
       "      <th>PC4</th>\n",
       "      <th>PC5</th>\n",
       "      <th>Cluster</th>\n",
       "    </tr>\n",
       "  </thead>\n",
       "  <tbody>\n",
       "    <tr>\n",
       "      <th>0</th>\n",
       "      <td>-8.133443</td>\n",
       "      <td>-0.302138</td>\n",
       "      <td>9.984672</td>\n",
       "      <td>0.423878</td>\n",
       "      <td>-0.211825</td>\n",
       "      <td>2</td>\n",
       "    </tr>\n",
       "    <tr>\n",
       "      <th>1</th>\n",
       "      <td>18.931381</td>\n",
       "      <td>0.193838</td>\n",
       "      <td>0.045462</td>\n",
       "      <td>-3.894042</td>\n",
       "      <td>2.302912</td>\n",
       "      <td>1</td>\n",
       "    </tr>\n",
       "    <tr>\n",
       "      <th>2</th>\n",
       "      <td>-6.571463</td>\n",
       "      <td>-14.188490</td>\n",
       "      <td>-3.120115</td>\n",
       "      <td>1.278588</td>\n",
       "      <td>0.531899</td>\n",
       "      <td>0</td>\n",
       "    </tr>\n",
       "    <tr>\n",
       "      <th>3</th>\n",
       "      <td>-7.533948</td>\n",
       "      <td>14.439427</td>\n",
       "      <td>-5.443487</td>\n",
       "      <td>3.358252</td>\n",
       "      <td>2.620555</td>\n",
       "      <td>3</td>\n",
       "    </tr>\n",
       "    <tr>\n",
       "      <th>4</th>\n",
       "      <td>-4.591760</td>\n",
       "      <td>-11.315284</td>\n",
       "      <td>-9.130630</td>\n",
       "      <td>-1.420151</td>\n",
       "      <td>-1.436138</td>\n",
       "      <td>0</td>\n",
       "    </tr>\n",
       "  </tbody>\n",
       "</table>\n",
       "</div>"
      ],
      "text/plain": [
       "         PC1        PC2       PC3       PC4       PC5  Cluster\n",
       "0  -8.133443  -0.302138  9.984672  0.423878 -0.211825        2\n",
       "1  18.931381   0.193838  0.045462 -3.894042  2.302912        1\n",
       "2  -6.571463 -14.188490 -3.120115  1.278588  0.531899        0\n",
       "3  -7.533948  14.439427 -5.443487  3.358252  2.620555        3\n",
       "4  -4.591760 -11.315284 -9.130630 -1.420151 -1.436138        0"
      ]
     },
     "execution_count": 24,
     "metadata": {},
     "output_type": "execute_result"
    }
   ],
   "source": [
    "pc_df =  pd.DataFrame(data=pc, columns = ['PC1', 'PC2', 'PC3', 'PC4', 'PC5'])\n",
    "pc_df['Cluster'] = Y1\n",
    "pc_df.head()"
   ]
  },
  {
   "cell_type": "code",
   "execution_count": 25,
   "metadata": {},
   "outputs": [
    {
     "data": {
      "text/plain": [
       "array([0.41594854, 0.3391866 , 0.1600729 , 0.02016822, 0.01640516])"
      ]
     },
     "execution_count": 25,
     "metadata": {},
     "output_type": "execute_result"
    }
   ],
   "source": [
    "pca.explained_variance_ratio_"
   ]
  },
  {
   "cell_type": "code",
   "execution_count": 27,
   "metadata": {},
   "outputs": [
    {
     "data": {
      "text/plain": [
       "<matplotlib.axes._subplots.AxesSubplot at 0x7f23dec88dd8>"
      ]
     },
     "execution_count": 27,
     "metadata": {},
     "output_type": "execute_result"
    },
    {
     "data": {
      "image/png": "[encoded data removed]",
      "text/plain": [
       "<Figure size 432x288 with 1 Axes>"
      ]
     },
     "metadata": {},
     "output_type": "display_data"
    }
   ],
   "source": [
    "df = pd.DataFrame({'var':pca.explained_variance_ratio_, 'PC':['PC1', 'PC2', 'PC3', 'PC4', 'PC5']})\n",
    "\n",
    "sns.barplot(x = 'PC', y = \"var\", data = df, color = \"c\")"
   ]
  },
  {
   "cell_type": "code",
   "execution_count": 28,
   "metadata": {},
   "outputs": [
    {
     "data": {
      "text/plain": [
       "<seaborn.axisgrid.FacetGrid at 0x7f23dec82f28>"
      ]
     },
     "execution_count": 28,
     "metadata": {},
     "output_type": "execute_result"
    },
    {
     "data": {
      "image/png": "[encoded data removed]",
      "text/plain": [
       "<Figure size 403.5x360 with 1 Axes>"
      ]
     },
     "metadata": {},
     "output_type": "display_data"
    }
   ],
   "source": [
    "sns.lmplot(x=\"PC1\", y=\"PC2\", data=pc_df, fit_reg=False,hue='Cluster', legend=True, scatter_kws={\"s\":80})"
   ]
  },
  {
   "cell_type": "code",
   "execution_count": null,
   "metadata": {},
   "outputs": [],
   "source": []
  }
 ],
 "metadata": {
  "kernelspec": {
   "display_name": "Python 3",
   "language": "python",
   "name": "python3"
  },
  "language_info": {
   "codemirror_mode": {
    "name": "ipython",
    "version": 3
   },
   "file_extension": ".py",
   "mimetype": "text/x-python",
   "name": "python",
   "nbconvert_exporter": "python",
   "pygments_lexer": "ipython3",
   "version": "3.6.5"
  }
 },
 "nbformat": 4,
 "nbformat_minor": 2
}
