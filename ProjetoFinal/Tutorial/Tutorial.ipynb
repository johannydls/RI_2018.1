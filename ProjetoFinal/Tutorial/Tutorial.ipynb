{
 "cells": [
  {
   "cell_type": "markdown",
   "metadata": {},
   "source": [
    "Neste artigo utilizaremos a biblioteca Python de Machine Learning Scikit-Learn\n",
    "\n"
   ]
  },
  {
   "cell_type": "code",
   "execution_count": 15,
   "metadata": {
    "collapsed": true
   },
   "outputs": [],
   "source": [
    "import pandas as pd\n",
    "from sklearn.cluster import KMeans\n",
    "import matplotlib.pyplot as plt"
   ]
  },
  {
   "cell_type": "code",
   "execution_count": 2,
   "metadata": {
    "collapsed": true
   },
   "outputs": [],
   "source": [
    "iris = pd.read_csv(\"iris.csv\")"
   ]
  },
  {
   "cell_type": "code",
   "execution_count": 3,
   "metadata": {},
   "outputs": [
    {
     "data": {
      "text/html": [
       "<div>\n",
       "<style>\n",
       "    .dataframe thead tr:only-child th {\n",
       "        text-align: right;\n",
       "    }\n",
       "\n",
       "    .dataframe thead th {\n",
       "        text-align: left;\n",
       "    }\n",
       "\n",
       "    .dataframe tbody tr th {\n",
       "        vertical-align: top;\n",
       "    }\n",
       "</style>\n",
       "<table border=\"1\" class=\"dataframe\">\n",
       "  <thead>\n",
       "    <tr style=\"text-align: right;\">\n",
       "      <th></th>\n",
       "      <th>sepal.length</th>\n",
       "      <th>sepal.width</th>\n",
       "      <th>petal.length</th>\n",
       "      <th>petal.width</th>\n",
       "      <th>variety</th>\n",
       "    </tr>\n",
       "  </thead>\n",
       "  <tbody>\n",
       "    <tr>\n",
       "      <th>0</th>\n",
       "      <td>5.1</td>\n",
       "      <td>3.5</td>\n",
       "      <td>1.4</td>\n",
       "      <td>0.2</td>\n",
       "      <td>Setosa</td>\n",
       "    </tr>\n",
       "    <tr>\n",
       "      <th>1</th>\n",
       "      <td>4.9</td>\n",
       "      <td>3.0</td>\n",
       "      <td>1.4</td>\n",
       "      <td>0.2</td>\n",
       "      <td>Setosa</td>\n",
       "    </tr>\n",
       "    <tr>\n",
       "      <th>2</th>\n",
       "      <td>4.7</td>\n",
       "      <td>3.2</td>\n",
       "      <td>1.3</td>\n",
       "      <td>0.2</td>\n",
       "      <td>Setosa</td>\n",
       "    </tr>\n",
       "    <tr>\n",
       "      <th>3</th>\n",
       "      <td>4.6</td>\n",
       "      <td>3.1</td>\n",
       "      <td>1.5</td>\n",
       "      <td>0.2</td>\n",
       "      <td>Setosa</td>\n",
       "    </tr>\n",
       "    <tr>\n",
       "      <th>4</th>\n",
       "      <td>5.0</td>\n",
       "      <td>3.6</td>\n",
       "      <td>1.4</td>\n",
       "      <td>0.2</td>\n",
       "      <td>Setosa</td>\n",
       "    </tr>\n",
       "  </tbody>\n",
       "</table>\n",
       "</div>"
      ],
      "text/plain": [
       "   sepal.length  sepal.width  petal.length  petal.width variety\n",
       "0           5.1          3.5           1.4          0.2  Setosa\n",
       "1           4.9          3.0           1.4          0.2  Setosa\n",
       "2           4.7          3.2           1.3          0.2  Setosa\n",
       "3           4.6          3.1           1.5          0.2  Setosa\n",
       "4           5.0          3.6           1.4          0.2  Setosa"
      ]
     },
     "execution_count": 3,
     "metadata": {},
     "output_type": "execute_result"
    }
   ],
   "source": [
    "iris.head()"
   ]
  },
  {
   "cell_type": "code",
   "execution_count": 4,
   "metadata": {
    "collapsed": true
   },
   "outputs": [],
   "source": [
    "X = iris.iloc[:, 0:4].values"
   ]
  },
  {
   "cell_type": "code",
   "execution_count": 5,
   "metadata": {},
   "outputs": [
    {
     "data": {
      "text/plain": [
       "array([[ 5.1,  3.5,  1.4,  0.2],\n",
       "       [ 4.9,  3. ,  1.4,  0.2],\n",
       "       [ 4.7,  3.2,  1.3,  0.2],\n",
       "       [ 4.6,  3.1,  1.5,  0.2],\n",
       "       [ 5. ,  3.6,  1.4,  0.2],\n",
       "       [ 5.4,  3.9,  1.7,  0.4],\n",
       "       [ 4.6,  3.4,  1.4,  0.3],\n",
       "       [ 5. ,  3.4,  1.5,  0.2],\n",
       "       [ 4.4,  2.9,  1.4,  0.2],\n",
       "       [ 4.9,  3.1,  1.5,  0.1],\n",
       "       [ 5.4,  3.7,  1.5,  0.2],\n",
       "       [ 4.8,  3.4,  1.6,  0.2],\n",
       "       [ 4.8,  3. ,  1.4,  0.1],\n",
       "       [ 4.3,  3. ,  1.1,  0.1],\n",
       "       [ 5.8,  4. ,  1.2,  0.2],\n",
       "       [ 5.7,  4.4,  1.5,  0.4],\n",
       "       [ 5.4,  3.9,  1.3,  0.4],\n",
       "       [ 5.1,  3.5,  1.4,  0.3],\n",
       "       [ 5.7,  3.8,  1.7,  0.3],\n",
       "       [ 5.1,  3.8,  1.5,  0.3],\n",
       "       [ 5.4,  3.4,  1.7,  0.2],\n",
       "       [ 5.1,  3.7,  1.5,  0.4],\n",
       "       [ 4.6,  3.6,  1. ,  0.2],\n",
       "       [ 5.1,  3.3,  1.7,  0.5],\n",
       "       [ 4.8,  3.4,  1.9,  0.2],\n",
       "       [ 5. ,  3. ,  1.6,  0.2],\n",
       "       [ 5. ,  3.4,  1.6,  0.4],\n",
       "       [ 5.2,  3.5,  1.5,  0.2],\n",
       "       [ 5.2,  3.4,  1.4,  0.2],\n",
       "       [ 4.7,  3.2,  1.6,  0.2],\n",
       "       [ 4.8,  3.1,  1.6,  0.2],\n",
       "       [ 5.4,  3.4,  1.5,  0.4],\n",
       "       [ 5.2,  4.1,  1.5,  0.1],\n",
       "       [ 5.5,  4.2,  1.4,  0.2],\n",
       "       [ 4.9,  3.1,  1.5,  0.2],\n",
       "       [ 5. ,  3.2,  1.2,  0.2],\n",
       "       [ 5.5,  3.5,  1.3,  0.2],\n",
       "       [ 4.9,  3.6,  1.4,  0.1],\n",
       "       [ 4.4,  3. ,  1.3,  0.2],\n",
       "       [ 5.1,  3.4,  1.5,  0.2],\n",
       "       [ 5. ,  3.5,  1.3,  0.3],\n",
       "       [ 4.5,  2.3,  1.3,  0.3],\n",
       "       [ 4.4,  3.2,  1.3,  0.2],\n",
       "       [ 5. ,  3.5,  1.6,  0.6],\n",
       "       [ 5.1,  3.8,  1.9,  0.4],\n",
       "       [ 4.8,  3. ,  1.4,  0.3],\n",
       "       [ 5.1,  3.8,  1.6,  0.2],\n",
       "       [ 4.6,  3.2,  1.4,  0.2],\n",
       "       [ 5.3,  3.7,  1.5,  0.2],\n",
       "       [ 5. ,  3.3,  1.4,  0.2],\n",
       "       [ 7. ,  3.2,  4.7,  1.4],\n",
       "       [ 6.4,  3.2,  4.5,  1.5],\n",
       "       [ 6.9,  3.1,  4.9,  1.5],\n",
       "       [ 5.5,  2.3,  4. ,  1.3],\n",
       "       [ 6.5,  2.8,  4.6,  1.5],\n",
       "       [ 5.7,  2.8,  4.5,  1.3],\n",
       "       [ 6.3,  3.3,  4.7,  1.6],\n",
       "       [ 4.9,  2.4,  3.3,  1. ],\n",
       "       [ 6.6,  2.9,  4.6,  1.3],\n",
       "       [ 5.2,  2.7,  3.9,  1.4],\n",
       "       [ 5. ,  2. ,  3.5,  1. ],\n",
       "       [ 5.9,  3. ,  4.2,  1.5],\n",
       "       [ 6. ,  2.2,  4. ,  1. ],\n",
       "       [ 6.1,  2.9,  4.7,  1.4],\n",
       "       [ 5.6,  2.9,  3.6,  1.3],\n",
       "       [ 6.7,  3.1,  4.4,  1.4],\n",
       "       [ 5.6,  3. ,  4.5,  1.5],\n",
       "       [ 5.8,  2.7,  4.1,  1. ],\n",
       "       [ 6.2,  2.2,  4.5,  1.5],\n",
       "       [ 5.6,  2.5,  3.9,  1.1],\n",
       "       [ 5.9,  3.2,  4.8,  1.8],\n",
       "       [ 6.1,  2.8,  4. ,  1.3],\n",
       "       [ 6.3,  2.5,  4.9,  1.5],\n",
       "       [ 6.1,  2.8,  4.7,  1.2],\n",
       "       [ 6.4,  2.9,  4.3,  1.3],\n",
       "       [ 6.6,  3. ,  4.4,  1.4],\n",
       "       [ 6.8,  2.8,  4.8,  1.4],\n",
       "       [ 6.7,  3. ,  5. ,  1.7],\n",
       "       [ 6. ,  2.9,  4.5,  1.5],\n",
       "       [ 5.7,  2.6,  3.5,  1. ],\n",
       "       [ 5.5,  2.4,  3.8,  1.1],\n",
       "       [ 5.5,  2.4,  3.7,  1. ],\n",
       "       [ 5.8,  2.7,  3.9,  1.2],\n",
       "       [ 6. ,  2.7,  5.1,  1.6],\n",
       "       [ 5.4,  3. ,  4.5,  1.5],\n",
       "       [ 6. ,  3.4,  4.5,  1.6],\n",
       "       [ 6.7,  3.1,  4.7,  1.5],\n",
       "       [ 6.3,  2.3,  4.4,  1.3],\n",
       "       [ 5.6,  3. ,  4.1,  1.3],\n",
       "       [ 5.5,  2.5,  4. ,  1.3],\n",
       "       [ 5.5,  2.6,  4.4,  1.2],\n",
       "       [ 6.1,  3. ,  4.6,  1.4],\n",
       "       [ 5.8,  2.6,  4. ,  1.2],\n",
       "       [ 5. ,  2.3,  3.3,  1. ],\n",
       "       [ 5.6,  2.7,  4.2,  1.3],\n",
       "       [ 5.7,  3. ,  4.2,  1.2],\n",
       "       [ 5.7,  2.9,  4.2,  1.3],\n",
       "       [ 6.2,  2.9,  4.3,  1.3],\n",
       "       [ 5.1,  2.5,  3. ,  1.1],\n",
       "       [ 5.7,  2.8,  4.1,  1.3],\n",
       "       [ 6.3,  3.3,  6. ,  2.5],\n",
       "       [ 5.8,  2.7,  5.1,  1.9],\n",
       "       [ 7.1,  3. ,  5.9,  2.1],\n",
       "       [ 6.3,  2.9,  5.6,  1.8],\n",
       "       [ 6.5,  3. ,  5.8,  2.2],\n",
       "       [ 7.6,  3. ,  6.6,  2.1],\n",
       "       [ 4.9,  2.5,  4.5,  1.7],\n",
       "       [ 7.3,  2.9,  6.3,  1.8],\n",
       "       [ 6.7,  2.5,  5.8,  1.8],\n",
       "       [ 7.2,  3.6,  6.1,  2.5],\n",
       "       [ 6.5,  3.2,  5.1,  2. ],\n",
       "       [ 6.4,  2.7,  5.3,  1.9],\n",
       "       [ 6.8,  3. ,  5.5,  2.1],\n",
       "       [ 5.7,  2.5,  5. ,  2. ],\n",
       "       [ 5.8,  2.8,  5.1,  2.4],\n",
       "       [ 6.4,  3.2,  5.3,  2.3],\n",
       "       [ 6.5,  3. ,  5.5,  1.8],\n",
       "       [ 7.7,  3.8,  6.7,  2.2],\n",
       "       [ 7.7,  2.6,  6.9,  2.3],\n",
       "       [ 6. ,  2.2,  5. ,  1.5],\n",
       "       [ 6.9,  3.2,  5.7,  2.3],\n",
       "       [ 5.6,  2.8,  4.9,  2. ],\n",
       "       [ 7.7,  2.8,  6.7,  2. ],\n",
       "       [ 6.3,  2.7,  4.9,  1.8],\n",
       "       [ 6.7,  3.3,  5.7,  2.1],\n",
       "       [ 7.2,  3.2,  6. ,  1.8],\n",
       "       [ 6.2,  2.8,  4.8,  1.8],\n",
       "       [ 6.1,  3. ,  4.9,  1.8],\n",
       "       [ 6.4,  2.8,  5.6,  2.1],\n",
       "       [ 7.2,  3. ,  5.8,  1.6],\n",
       "       [ 7.4,  2.8,  6.1,  1.9],\n",
       "       [ 7.9,  3.8,  6.4,  2. ],\n",
       "       [ 6.4,  2.8,  5.6,  2.2],\n",
       "       [ 6.3,  2.8,  5.1,  1.5],\n",
       "       [ 6.1,  2.6,  5.6,  1.4],\n",
       "       [ 7.7,  3. ,  6.1,  2.3],\n",
       "       [ 6.3,  3.4,  5.6,  2.4],\n",
       "       [ 6.4,  3.1,  5.5,  1.8],\n",
       "       [ 6. ,  3. ,  4.8,  1.8],\n",
       "       [ 6.9,  3.1,  5.4,  2.1],\n",
       "       [ 6.7,  3.1,  5.6,  2.4],\n",
       "       [ 6.9,  3.1,  5.1,  2.3],\n",
       "       [ 5.8,  2.7,  5.1,  1.9],\n",
       "       [ 6.8,  3.2,  5.9,  2.3],\n",
       "       [ 6.7,  3.3,  5.7,  2.5],\n",
       "       [ 6.7,  3. ,  5.2,  2.3],\n",
       "       [ 6.3,  2.5,  5. ,  1.9],\n",
       "       [ 6.5,  3. ,  5.2,  2. ],\n",
       "       [ 6.2,  3.4,  5.4,  2.3],\n",
       "       [ 5.9,  3. ,  5.1,  1.8]])"
      ]
     },
     "execution_count": 5,
     "metadata": {},
     "output_type": "execute_result"
    }
   ],
   "source": [
    "X"
   ]
  },
  {
   "cell_type": "markdown",
   "metadata": {},
   "source": [
    "Declarando o objeto kmeans utilizando 3 clusters e utilizando o método de inicialização random, que irá selecionar os centroides de forma aleatória."
   ]
  },
  {
   "cell_type": "code",
   "execution_count": 6,
   "metadata": {
    "collapsed": true
   },
   "outputs": [],
   "source": [
    "kmeans = KMeans(n_clusters = 3, init='random')"
   ]
  },
  {
   "cell_type": "markdown",
   "metadata": {},
   "source": [
    "### O método fit() recebe como parâmetro os dados a serem agrupados, nesse caso, será a variável X declarada anteriormente.\n",
    "Após executar o método, a Scikit-Learn retorna o objeto com os seus valores de cada atributo conforme especificado ou com seus valores padrão."
   ]
  },
  {
   "cell_type": "code",
   "execution_count": 7,
   "metadata": {},
   "outputs": [
    {
     "data": {
      "text/plain": [
       "KMeans(algorithm='auto', copy_x=True, init='random', max_iter=300,\n",
       "    n_clusters=3, n_init=10, n_jobs=1, precompute_distances='auto',\n",
       "    random_state=None, tol=0.0001, verbose=0)"
      ]
     },
     "execution_count": 7,
     "metadata": {},
     "output_type": "execute_result"
    }
   ],
   "source": [
    "kmeans.fit(X)"
   ]
  },
  {
   "cell_type": "markdown",
   "metadata": {},
   "source": [
    "### Verificando centroides gerados através do atributo \"cluster_centers_\"\n",
    "Aqui será retornado um array contendo três instancias e seus valores de atributos. Como foi especificado para agrupar os dados em três grupos de forma aleatória, a cada execução do método fit() e imprimir o atributo **cluster_centers_** teremos valores diferentes para o array."
   ]
  },
  {
   "cell_type": "code",
   "execution_count": 8,
   "metadata": {},
   "outputs": [
    {
     "data": {
      "text/plain": [
       "array([[ 6.85      ,  3.07368421,  5.74210526,  2.07105263],\n",
       "       [ 5.9016129 ,  2.7483871 ,  4.39354839,  1.43387097],\n",
       "       [ 5.006     ,  3.428     ,  1.462     ,  0.246     ]])"
      ]
     },
     "execution_count": 8,
     "metadata": {},
     "output_type": "execute_result"
    }
   ],
   "source": [
    "kmeans.cluster_centers_"
   ]
  },
  {
   "cell_type": "markdown",
   "metadata": {},
   "source": [
    "# Algoritmo de Cluster e sua tabela de Distância\n"
   ]
  },
  {
   "cell_type": "code",
   "execution_count": 9,
   "metadata": {
    "collapsed": true
   },
   "outputs": [],
   "source": [
    "# O método fit_transform() executa o K-means para agrupar os dados e retorna uma tabela de distâncias."
   ]
  },
  {
   "cell_type": "code",
   "execution_count": 10,
   "metadata": {
    "collapsed": true
   },
   "outputs": [],
   "source": [
    "distance = kmeans.fit_transform(X)"
   ]
  },
  {
   "cell_type": "code",
   "execution_count": 11,
   "metadata": {},
   "outputs": [
    {
     "data": {
      "text/plain": [
       "array([[ 5.0595416 ,  0.14135063,  3.41925061],\n",
       "       [ 5.11494335,  0.44763825,  3.39857426],\n",
       "       [ 5.27935534,  0.4171091 ,  3.56935666],\n",
       "       [ 5.15358977,  0.52533799,  3.42240962],\n",
       "       [ 5.10433388,  0.18862662,  3.46726403],\n",
       "       [ 4.68148797,  0.67703767,  3.14673162],\n",
       "       [ 5.21147652,  0.4151867 ,  3.51650264],\n",
       "       [ 5.00252706,  0.06618157,  3.33654987],\n",
       "       [ 5.32798107,  0.80745278,  3.57233779],\n",
       "       [ 5.06790865,  0.37627118,  3.3583767 ],\n",
       "       [ 4.89806763,  0.4824728 ,  3.32449131],\n",
       "       [ 4.9966845 ,  0.25373214,  3.31126872],\n",
       "       [ 5.19103612,  0.50077939,  3.46661272],\n",
       "       [ 5.65173594,  0.91322505,  3.90578362],\n",
       "       [ 5.10804455,  1.01409073,  3.646649  ],\n",
       "       [ 4.88564095,  1.20481534,  3.49427881],\n",
       "       [ 5.03090587,  0.6542018 ,  3.495248  ],\n",
       "       [ 5.02342022,  0.1441527 ,  3.38444981],\n",
       "       [ 4.61792995,  0.82436642,  3.11245944],\n",
       "       [ 4.97213426,  0.38933276,  3.37738931],\n",
       "       [ 4.6955761 ,  0.46344363,  3.07471224],\n",
       "       [ 4.9236821 ,  0.3286031 ,  3.31506588],\n",
       "       [ 5.59713396,  0.64029681,  3.93167253],\n",
       "       [ 4.68193765,  0.38259639,  3.01233762],\n",
       "       [ 4.75095704,  0.48701129,  3.06241269],\n",
       "       [ 4.90772894,  0.45208406,  3.19414543],\n",
       "       [ 4.84545508,  0.20875823,  3.17967089],\n",
       "       [ 4.93969029,  0.21536016,  3.30941724],\n",
       "       [ 5.01833618,  0.21066561,  3.37648183],\n",
       "       [ 5.02954567,  0.40838707,  3.31272968],\n",
       "       [ 4.98608729,  0.41373905,  3.26550651],\n",
       "       [ 4.79550372,  0.42565244,  3.18083736],\n",
       "       [ 5.06520776,  0.71552778,  3.53142353],\n",
       "       [ 5.04438334,  0.91977171,  3.57102821],\n",
       "       [ 5.02985959,  0.34982853,  3.31992769],\n",
       "       [ 5.25071556,  0.35039977,  3.56904033],\n",
       "       [ 5.02368214,  0.52685861,  3.43783276],\n",
       "       [ 5.17865184,  0.25686572,  3.53114948],\n",
       "       [ 5.40750095,  0.76077592,  3.66205264],\n",
       "       [ 4.9664149 ,  0.11480418,  3.31092773],\n",
       "       [ 5.14520862,  0.18541845,  3.49764675],\n",
       "       [ 5.38423754,  1.24803045,  3.60850034],\n",
       "       [ 5.40847417,  0.6690142 ,  3.68120561],\n",
       "       [ 4.78803478,  0.38675574,  3.14278239],\n",
       "       [ 4.59828494,  0.60231221,  3.00585191],\n",
       "       [ 5.11844067,  0.48205809,  3.39468045],\n",
       "       [ 4.92421655,  0.41034132,  3.32788568],\n",
       "       [ 5.23766854,  0.47199576,  3.51879523],\n",
       "       [ 4.92859681,  0.40494444,  3.34104251],\n",
       "       [ 5.08216833,  0.14959947,  3.40601705],\n",
       "       [ 1.25489071,  3.98049997,  1.22697525],\n",
       "       [ 1.44477759,  3.57731464,  0.684141  ],\n",
       "       [ 1.01903626,  4.13366423,  1.17527644],\n",
       "       [ 2.45978458,  3.01144152,  0.73153652],\n",
       "       [ 1.3520017 ,  3.74779669,  0.63853451],\n",
       "       [ 1.88009327,  3.34908644,  0.26937898],\n",
       "       [ 1.28902785,  3.74283048,  0.76452634],\n",
       "       [ 3.37155487,  2.23937045,  1.58388575],\n",
       "       [ 1.41123804,  3.71181627,  0.75582717],\n",
       "       [ 2.58955659,  2.8005678 ,  0.85984838],\n",
       "       [ 3.27864111,  2.60022691,  1.53611907],\n",
       "       [ 1.90055758,  3.17042268,  0.32426175],\n",
       "       [ 2.38073698,  3.08317693,  0.80841374],\n",
       "       [ 1.45909603,  3.64581678,  0.39674141],\n",
       "       [ 2.60303733,  2.51268382,  0.87269542],\n",
       "       [ 1.50822767,  3.59732957,  0.87306498],\n",
       "       [ 1.85387593,  3.36719171,  0.41229163],\n",
       "       [ 2.25517257,  2.94753796,  0.53579956],\n",
       "       [ 1.74778451,  3.70615434,  0.6367639 ],\n",
       "       [ 2.49557781,  2.80841236,  0.71254917],\n",
       "       [ 1.37094403,  3.79583719,  0.7093731 ],\n",
       "       [ 2.06563694,  3.02383531,  0.46349013],\n",
       "       [ 1.29106776,  3.99098735,  0.69373966],\n",
       "       [ 1.57547425,  3.60360653,  0.43661144],\n",
       "       [ 1.70495043,  3.37448959,  0.54593856],\n",
       "       [ 1.52298639,  3.56196294,  0.74313017],\n",
       "       [ 1.18965415,  4.01083283,  0.98798453],\n",
       "       [ 0.84636259,  4.20528001,  1.06739835],\n",
       "       [ 1.61913335,  3.47401497,  0.21993519],\n",
       "       [ 2.77868071,  2.42676328,  1.0243726 ],\n",
       "       [ 2.6440625 ,  2.73795179,  0.86396528],\n",
       "       [ 2.75566654,  2.62259032,  0.97566381],\n",
       "       [ 2.32254696,  2.83096803,  0.55763082],\n",
       "       [ 1.22324554,  4.07263797,  0.73395781],\n",
       "       [ 1.9942056 ,  3.33772078,  0.57500396],\n",
       "       [ 1.61049622,  3.47153856,  0.68790275],\n",
       "       [ 1.19803047,  3.87741924,  0.92700552],\n",
       "       [ 1.81572464,  3.56224367,  0.61459444],\n",
       "       [ 2.20430516,  2.93359506,  0.50830256],\n",
       "       [ 2.40438484,  2.94237659,  0.6291191 ],\n",
       "       [ 2.14635877,  3.23598208,  0.48790256],\n",
       "       [ 1.52402278,  3.5438369 ,  0.38266958],\n",
       "       [ 2.26286106,  2.94407541,  0.49185351],\n",
       "       [ 3.33648305,  2.28455247,  1.5485635 ],\n",
       "       [ 2.16211718,  3.08064604,  0.3856087 ],\n",
       "       [ 2.11299567,  3.01190637,  0.44284695],\n",
       "       [ 2.07973003,  3.0607156 ,  0.3449879 ],\n",
       "       [ 1.76829182,  3.29690461,  0.37241653],\n",
       "       [ 3.44291999,  1.99117553,  1.66064034],\n",
       "       [ 2.16527941,  2.99098312,  0.38393196],\n",
       "       [ 0.77731871,  5.23113563,  2.0445799 ],\n",
       "       [ 1.29757391,  4.13898297,  0.85382472],\n",
       "       [ 0.30610139,  5.26319105,  2.05245342],\n",
       "       [ 0.65293923,  4.63585807,  1.33089245],\n",
       "       [ 0.38458885,  5.00515534,  1.72813078],\n",
       "       [ 1.14225684,  6.06204421,  2.87401886],\n",
       "       [ 2.4108337 ,  3.49513662,  1.07101875],\n",
       "       [ 0.78573677,  5.6002125 ,  2.39730707],\n",
       "       [ 0.65454939,  4.9963967 ,  1.67668563],\n",
       "       [ 0.8435596 ,  5.60667281,  2.54158648],\n",
       "       [ 0.74552218,  4.31225927,  1.17541367],\n",
       "       [ 0.75289837,  4.46533089,  1.13563278],\n",
       "       [ 0.25958095,  4.81086063,  1.59322675],\n",
       "       [ 1.48572618,  4.11543193,  0.88917352],\n",
       "       [ 1.30303821,  4.34736472,  1.20227628],\n",
       "       [ 0.68288333,  4.57650303,  1.42273608],\n",
       "       [ 0.50991553,  4.59734489,  1.33403966],\n",
       "       [ 1.47791217,  6.21697515,  3.20105585],\n",
       "       [ 1.52971038,  6.46018421,  3.20759942],\n",
       "       [ 1.53708992,  4.07258886,  0.82617494],\n",
       "       [ 0.26952816,  5.08121836,  1.91251832],\n",
       "       [ 1.5334904 ,  3.95519658,  0.81891975],\n",
       "       [ 1.31149299,  6.17779734,  2.9794431 ],\n",
       "       [ 1.10668455,  4.05452587,  0.74269596],\n",
       "       [ 0.27627819,  4.92787784,  1.75847731],\n",
       "       [ 0.52766931,  5.27958142,  2.14580999],\n",
       "       [ 1.20765678,  3.92137476,  0.62526165],\n",
       "       [ 1.16212743,  3.95155412,  0.70228926],\n",
       "       [ 0.54629196,  4.78518338,  1.4663925 ],\n",
       "       [ 0.59428255,  5.06442297,  1.93773659],\n",
       "       [ 0.7312665 ,  5.51111422,  2.31885342],\n",
       "       [ 1.43802246,  5.99783127,  3.07340053],\n",
       "       [ 0.5605572 ,  4.8248088 ,  1.51444141],\n",
       "       [ 1.05631592,  4.10808715,  0.81536685],\n",
       "       [ 1.12133058,  4.50967626,  1.23209127],\n",
       "       [ 0.95311851,  5.75940796,  2.6381171 ],\n",
       "       [ 0.73306362,  4.84127876,  1.72401927],\n",
       "       [ 0.57903109,  4.557541  ,  1.31541133],\n",
       "       [ 1.29960041,  3.83775716,  0.61011676],\n",
       "       [ 0.34794609,  4.7581488 ,  1.60532899],\n",
       "       [ 0.3893492 ,  4.97393004,  1.77481954],\n",
       "       [ 0.68403844,  4.59878027,  1.53937059],\n",
       "       [ 1.29757391,  4.13898297,  0.85382472],\n",
       "       [ 0.30952112,  5.21394093,  2.00764279],\n",
       "       [ 0.50939919,  5.09187392,  1.94554509],\n",
       "       [ 0.61173881,  4.60916261,  1.44957743],\n",
       "       [ 1.10072376,  4.21767471,  0.89747884],\n",
       "       [ 0.65334214,  4.41184542,  1.17993324],\n",
       "       [ 0.83572418,  4.59925864,  1.50889317],\n",
       "       [ 1.1805499 ,  4.0782815 ,  0.83452741]])"
      ]
     },
     "execution_count": 11,
     "metadata": {},
     "output_type": "execute_result"
    }
   ],
   "source": [
    "distance"
   ]
  },
  {
   "cell_type": "markdown",
   "metadata": {},
   "source": [
    "### Conferindo Labels"
   ]
  },
  {
   "cell_type": "code",
   "execution_count": 12,
   "metadata": {
    "collapsed": true
   },
   "outputs": [],
   "source": [
    "labels = kmeans.labels_"
   ]
  },
  {
   "cell_type": "code",
   "execution_count": 13,
   "metadata": {},
   "outputs": [
    {
     "data": {
      "text/plain": [
       "array([1, 1, 1, 1, 1, 1, 1, 1, 1, 1, 1, 1, 1, 1, 1, 1, 1, 1, 1, 1, 1, 1, 1,\n",
       "       1, 1, 1, 1, 1, 1, 1, 1, 1, 1, 1, 1, 1, 1, 1, 1, 1, 1, 1, 1, 1, 1, 1,\n",
       "       1, 1, 1, 1, 2, 2, 0, 2, 2, 2, 2, 2, 2, 2, 2, 2, 2, 2, 2, 2, 2, 2, 2,\n",
       "       2, 2, 2, 2, 2, 2, 2, 2, 0, 2, 2, 2, 2, 2, 2, 2, 2, 2, 2, 2, 2, 2, 2,\n",
       "       2, 2, 2, 2, 2, 2, 2, 2, 0, 2, 0, 0, 0, 0, 2, 0, 0, 0, 0, 0, 0, 2, 2,\n",
       "       0, 0, 0, 0, 2, 0, 2, 0, 2, 0, 0, 2, 2, 0, 0, 0, 0, 0, 2, 0, 0, 0, 0,\n",
       "       2, 0, 0, 0, 2, 0, 0, 0, 2, 0, 0, 2], dtype=int32)"
      ]
     },
     "execution_count": 13,
     "metadata": {},
     "output_type": "execute_result"
    }
   ],
   "source": [
    "labels"
   ]
  },
  {
   "cell_type": "markdown",
   "metadata": {},
   "source": [
    "## Gerando Gráfico"
   ]
  },
  {
   "cell_type": "code",
   "execution_count": 16,
   "metadata": {},
   "outputs": [
    {
     "name": "stdout",
     "output_type": "stream",
     "text": [
      "1 681.3706\n",
      "2 152.34795176\n",
      "3 78.8514414261\n",
      "4 57.2560093157\n",
      "5 46.4461820513\n",
      "6 39.0399872461\n",
      "7 34.572420022\n",
      "8 32.1291312372\n",
      "9 28.2745411825\n",
      "10 27.254713711\n"
     ]
    },
    {
     "data": {
      "image/png": "[encoded data removed]",
      "text/plain": [
       "<matplotlib.figure.Figure at 0x7f26816d7a58>"
      ]
     },
     "metadata": {},
     "output_type": "display_data"
    }
   ],
   "source": [
    "wcss = []\n",
    "\n",
    "for i in range(1,11):\n",
    "    kmeans = KMeans(n_clusters=i, init='random')\n",
    "    kmeans.fit(X)\n",
    "    print(i, kmeans.inertia_)\n",
    "    wcss.append(kmeans.inertia_)\n",
    "\n",
    "plt.plot(range(1,11),wcss)\n",
    "plt.title('O metodo Elbow')\n",
    "plt.xlabel('Numero de Clusters')\n",
    "plt.ylabel('WSS')\n",
    "plt.show()"
   ]
  },
  {
   "cell_type": "code",
   "execution_count": null,
   "metadata": {
    "collapsed": true
   },
   "outputs": [],
   "source": []
  },
  {
   "cell_type": "code",
   "execution_count": null,
   "metadata": {
    "collapsed": true
   },
   "outputs": [],
   "source": [
    "data = [\n",
    "        [ 4.12, 3.4, 1.6, 0.7],\n",
    "        [ 5.2, 5.8, 5.2, 6.7],\n",
    "        [ 3.1, 3.5, 3.3, 3.0]\n",
    "    ]\n",
    "kmeans.predict(data)"
   ]
  }
 ],
 "metadata": {
  "kernelspec": {
   "display_name": "Python 3",
   "language": "python",
   "name": "python3"
  },
  "language_info": {
   "codemirror_mode": {
    "name": "ipython",
    "version": 3
   },
   "file_extension": ".py",
   "mimetype": "text/x-python",
   "name": "python",
   "nbconvert_exporter": "python",
   "pygments_lexer": "ipython3",
   "version": "3.6.2"
  }
 },
 "nbformat": 4,
 "nbformat_minor": 2
}
