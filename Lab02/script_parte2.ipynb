{
 "cells": [
  {
   "cell_type": "markdown",
   "metadata": {},
   "source": [
    "# Recuperação da Informação e Busca na Web - 2018.1\n",
    "\n",
    "### Atividade: Lab 02 - Parte 2 - PageRank\n",
    "### Aluno: Johanny de Lucena Santos\n",
    "\n",
    "## - - - - - - - - - - - - - - - - - - - - - - - - - - - - - - - - - - - - - - - - - - \n",
    "\n",
    "Nesta atividade você vai exercitar o algoritmo PageRank. De forma específica, você vai fazer o seguinte:\n",
    "\n",
    "<ul>\n",
    "    <ul>\n",
    "        <li>Assistir o vídeo e (re)implementar o PageRank como descrito neste vídeo (https://www.youtube.com/watch?v=zv4OVNWfVt4).\n",
    "\n",
    "<ul>\n",
    "    <li>É importante que você realmente digite o código durante o vídeo (pausando quando necessário), isso é mais efetivo para o aprendizado do que somente copiar e colar do github por exemplo. Tente entender o código, ele é bem próximo ao que foi explicado em sala de aula.</li>\n",
    "\n",
    "<li>Essa é somente uma das muitas implementações do PageRank disponíveis na Web. Você pode escolher outra se assim desejar.</li></ul>\n",
    "<p>   \n",
    "<li>Aplique sua implementação nos dados disponíveis em http://snap.stanford.edu/data/soc-sign-bitcoinotc.html. Esses dados representam links entre investidores de bitcoin. Cada investidor pode receber uma nota de acordo com outras pessoas que fizeram transações com ele(a). **Vamos considerar somente as pessoas que receberam notas iguais ou maior a oito. Ou seja, somente as arestas que tenham peso maior ou igual à oito**.\n",
    "    <p>\n",
    "<li>Uma vez calculado o PageRank, gere visualizações dos resultados usando a ferramenta Gephi (https://gephi.org/).\n",
    "   <br> \n",
    "    <br>\n",
    "Feitos os passos acima, responda as seguintes perguntas:\n",
    "<p>\n",
    "<li>Quantas iterações o PageRank precisou rodar até atingir convergência?</li>\n",
    "<li>Quais os 5 investidores mais importantes segundo o PageRank? Quais seus valores de PageRank?</li>\n",
    "<li>Como você poderia usar o PageRank caso você fosse um investidor em bitcoins?</li>"
   ]
  },
  {
   "cell_type": "markdown",
   "metadata": {},
   "source": [
    "### Source (citation)\n",
    "\n",
    "S. Kumar, F. Spezzano, V.S. Subrahmanian, C. Faloutsos. Edge Weight Prediction in Weighted Signed Networks. IEEE International Conference on Data Mining (ICDM), 2016."
   ]
  },
  {
   "cell_type": "markdown",
   "metadata": {},
   "source": [
    "### Importações"
   ]
  },
  {
   "cell_type": "code",
   "execution_count": 1,
   "metadata": {},
   "outputs": [],
   "source": [
    "import numpy as np\n",
    "import pandas as pd"
   ]
  },
  {
   "cell_type": "markdown",
   "metadata": {},
   "source": [
    "## Definição do dataset a ser utilizado\n",
    "Aqui eu defino o conjunto de dados a ser utilizado, incluindo os nomes das colunas, bem como removendo a coluna TIME, que será desnecessária para as manipulações do conjunto de dados."
   ]
  },
  {
   "cell_type": "code",
   "execution_count": 2,
   "metadata": {},
   "outputs": [],
   "source": [
    "dataset = pd.read_csv('../data/soc-sign-bitcoinotc.csv')\n",
    "dataset.columns = ['SOURCE_ID', 'TARGET_ID', 'RATING', 'TIME']\n",
    "dataset = dataset.drop('TIME', axis=1)"
   ]
  },
  {
   "cell_type": "markdown",
   "metadata": {},
   "source": [
    "### Prévia do dataset"
   ]
  },
  {
   "cell_type": "code",
   "execution_count": 3,
   "metadata": {},
   "outputs": [
    {
     "data": {
      "text/html": [
       "<div>\n",
       "<style scoped>\n",
       "    .dataframe tbody tr th:only-of-type {\n",
       "        vertical-align: middle;\n",
       "    }\n",
       "\n",
       "    .dataframe tbody tr th {\n",
       "        vertical-align: top;\n",
       "    }\n",
       "\n",
       "    .dataframe thead th {\n",
       "        text-align: right;\n",
       "    }\n",
       "</style>\n",
       "<table border=\"1\" class=\"dataframe\">\n",
       "  <thead>\n",
       "    <tr style=\"text-align: right;\">\n",
       "      <th></th>\n",
       "      <th>SOURCE_ID</th>\n",
       "      <th>TARGET_ID</th>\n",
       "      <th>RATING</th>\n",
       "    </tr>\n",
       "  </thead>\n",
       "  <tbody>\n",
       "    <tr>\n",
       "      <th>0</th>\n",
       "      <td>6</td>\n",
       "      <td>5</td>\n",
       "      <td>2</td>\n",
       "    </tr>\n",
       "    <tr>\n",
       "      <th>1</th>\n",
       "      <td>1</td>\n",
       "      <td>15</td>\n",
       "      <td>1</td>\n",
       "    </tr>\n",
       "    <tr>\n",
       "      <th>2</th>\n",
       "      <td>4</td>\n",
       "      <td>3</td>\n",
       "      <td>7</td>\n",
       "    </tr>\n",
       "    <tr>\n",
       "      <th>3</th>\n",
       "      <td>13</td>\n",
       "      <td>16</td>\n",
       "      <td>8</td>\n",
       "    </tr>\n",
       "    <tr>\n",
       "      <th>4</th>\n",
       "      <td>13</td>\n",
       "      <td>10</td>\n",
       "      <td>8</td>\n",
       "    </tr>\n",
       "  </tbody>\n",
       "</table>\n",
       "</div>"
      ],
      "text/plain": [
       "   SOURCE_ID  TARGET_ID  RATING\n",
       "0          6          5       2\n",
       "1          1         15       1\n",
       "2          4          3       7\n",
       "3         13         16       8\n",
       "4         13         10       8"
      ]
     },
     "execution_count": 3,
     "metadata": {},
     "output_type": "execute_result"
    }
   ],
   "source": [
    "dataset.head()"
   ]
  },
  {
   "cell_type": "markdown",
   "metadata": {},
   "source": [
    "### Filtragem dos dados\n",
    "Vamos considerar somente as pessoas que receberam notas iguais ou maior a oito. Ou seja, somente as arestas que tenham peso maior ou igual à oito (filtrar os dados para os elementos que possuem a coluna Rating maior ou igual a 8)"
   ]
  },
  {
   "cell_type": "code",
   "execution_count": 4,
   "metadata": {},
   "outputs": [
    {
     "data": {
      "text/html": [
       "<div>\n",
       "<style scoped>\n",
       "    .dataframe tbody tr th:only-of-type {\n",
       "        vertical-align: middle;\n",
       "    }\n",
       "\n",
       "    .dataframe tbody tr th {\n",
       "        vertical-align: top;\n",
       "    }\n",
       "\n",
       "    .dataframe thead th {\n",
       "        text-align: right;\n",
       "    }\n",
       "</style>\n",
       "<table border=\"1\" class=\"dataframe\">\n",
       "  <thead>\n",
       "    <tr style=\"text-align: right;\">\n",
       "      <th></th>\n",
       "      <th>SOURCE_ID</th>\n",
       "      <th>TARGET_ID</th>\n",
       "      <th>RATING</th>\n",
       "    </tr>\n",
       "  </thead>\n",
       "  <tbody>\n",
       "    <tr>\n",
       "      <th>3</th>\n",
       "      <td>13</td>\n",
       "      <td>16</td>\n",
       "      <td>8</td>\n",
       "    </tr>\n",
       "    <tr>\n",
       "      <th>4</th>\n",
       "      <td>13</td>\n",
       "      <td>10</td>\n",
       "      <td>8</td>\n",
       "    </tr>\n",
       "    <tr>\n",
       "      <th>9</th>\n",
       "      <td>21</td>\n",
       "      <td>1</td>\n",
       "      <td>8</td>\n",
       "    </tr>\n",
       "    <tr>\n",
       "      <th>10</th>\n",
       "      <td>21</td>\n",
       "      <td>10</td>\n",
       "      <td>8</td>\n",
       "    </tr>\n",
       "    <tr>\n",
       "      <th>11</th>\n",
       "      <td>21</td>\n",
       "      <td>8</td>\n",
       "      <td>9</td>\n",
       "    </tr>\n",
       "  </tbody>\n",
       "</table>\n",
       "</div>"
      ],
      "text/plain": [
       "    SOURCE_ID  TARGET_ID  RATING\n",
       "3          13         16       8\n",
       "4          13         10       8\n",
       "9          21          1       8\n",
       "10         21         10       8\n",
       "11         21          8       9"
      ]
     },
     "execution_count": 4,
     "metadata": {},
     "output_type": "execute_result"
    }
   ],
   "source": [
    "dataset    = dataset.loc[dataset['RATING'] >= 8]\n",
    "source_ids = list(dataset['SOURCE_ID'])\n",
    "target_ids = list(dataset['TARGET_ID'])\n",
    "nodes_ids  = list(set(source_ids).union(set(target_ids)))\n",
    "\n",
    "dataset.head()"
   ]
  },
  {
   "cell_type": "markdown",
   "metadata": {},
   "source": [
    "## Criando grafo de interação entre investidores de Bitcoins"
   ]
  },
  {
   "cell_type": "code",
   "execution_count": 5,
   "metadata": {},
   "outputs": [],
   "source": [
    "grafo = {node:[] for node in nodes_ids}\n",
    "\n",
    "for i in range(len(source_ids)):\n",
    "    src = source_ids[i]\n",
    "    tgt = target_ids[i]\n",
    "    grafo[src].append(tgt)"
   ]
  },
  {
   "cell_type": "markdown",
   "metadata": {},
   "source": [
    "## Gerando a matriz de adjacência\n",
    "Criando a matriz H inicialmente zerada, e em seguida, preenchemos com 1 todos que possuem links de saída, dividindo-o pelo número de links que saem dele, ou seja, o número de pessoas que investiram dele."
   ]
  },
  {
   "cell_type": "code",
   "execution_count": 7,
   "metadata": {},
   "outputs": [],
   "source": [
    "h = [[0 for i in range(len(nodes_ids))] for j in range(len(nodes_ids))]\n",
    "\n",
    "for i in range(len(nodes_ids)):\n",
    "    for j in range(len(nodes_ids)):\n",
    "        src = nodes_ids[i]\n",
    "        tgt = nodes_ids[j]\n",
    "        links_saida = len(grafo[src])\n",
    "        \n",
    "        if (tgt in grafo[src]):\n",
    "            h[j][i] = float(1)/float(links_saida)\n",
    "        else:\n",
    "            h[j][i] = 0\n",
    "            \n",
    "h = np.matrix(h)"
   ]
  },
  {
   "cell_type": "markdown",
   "metadata": {},
   "source": [
    "### Calculo do PageRank\n",
    "Aqui, definimos o fator d = 0.15 e criamos a matriz B com todos os valores 1, e depois multiplicando por 1/n, onde n é o número de nós. Em seguida, calculamos o PageRank utilizando M = (1-d)*H + d*B"
   ]
  },
  {
   "cell_type": "code",
   "execution_count": 8,
   "metadata": {},
   "outputs": [],
   "source": [
    "d = 0.15\n",
    "fator = float(1)/float(len(nodes_ids))\n",
    "\n",
    "#Matriz temporaria com todos os valores em 1\n",
    "matriz_temp = np.matrix(\n",
    "    [[1 for i in range(len(nodes_ids))] for j in range(len(nodes_ids))]\n",
    ")\n",
    "\n",
    "b = fator * matriz_temp\n",
    "\n",
    "#Calculo do PageRank\n",
    "m = (1-d)*h + d*b\n",
    "\n",
    "#Matriz temporaria com uma coluna com valores 1\n",
    "matriz_temp2 = np.matrix([[1] for i in range(len(nodes_ids))])\n",
    "\n",
    "#Vetor v normalizado\n",
    "v = fator * matriz_temp2"
   ]
  },
  {
   "cell_type": "markdown",
   "metadata": {},
   "source": [
    "### Algoritmo PageRank\n",
    "Algoritmo utilizado para calcular todas as interações do PageRank. Ele calcua m * v até convergir. A diferença de convergência (soma da diferença de todos os elementos) é definida como 0.001. "
   ]
  },
  {
   "cell_type": "code",
   "execution_count": 9,
   "metadata": {},
   "outputs": [],
   "source": [
    "count = 0\n",
    "\n",
    "def pageRank(v):\n",
    "    \n",
    "    global count\n",
    "    \n",
    "    count += 1\n",
    "    \n",
    "    if sum(abs(m*v-v)) > 0.001:\n",
    "        return pageRank(m*v)\n",
    "    else:\n",
    "        return m*v"
   ]
  },
  {
   "cell_type": "markdown",
   "metadata": {},
   "source": [
    "### Gerando o resultado do PageRank\n",
    "Aqui usamos o algoritmo do PageRank para verificar o pageRank final do conjunto de dados. \n",
    "<p>\n",
    "Inicialmente, criamos o dataframe referente aos resultados do PageRank."
   ]
  },
  {
   "cell_type": "code",
   "execution_count": 21,
   "metadata": {},
   "outputs": [],
   "source": [
    "resultado = pageRank(v)\n",
    "resultado = [cell.item(0,0) for cell in resultado]\n",
    "\n",
    "pagerank_result = pd.DataFrame({'NODE_ID':nodes_ids, 'PAGE_RANK':resultado})"
   ]
  },
  {
   "cell_type": "markdown",
   "metadata": {},
   "source": [
    "### Criação do arquivo csv para visualização dos resultados\n",
    "Esses arquivos csv gerados a partir do dataframe dos resultados do PageRank e do dataset filtrado serão utilizados para a visualização dos resultados na ferramenta **Gephi**."
   ]
  },
  {
   "cell_type": "code",
   "execution_count": 30,
   "metadata": {},
   "outputs": [],
   "source": [
    "pagerank_result.to_csv(path_or_buf='../Lab02/resultado/pagerank_result.csv', index=False)\n",
    "dataset.to_csv(path_or_buf='../Lab02/resultado/soc-sign-bitcoinotc-filtrado.csv', columns=['SOURCE_ID', 'TARGET_ID'], index=False)"
   ]
  },
  {
   "cell_type": "code",
   "execution_count": 31,
   "metadata": {},
   "outputs": [],
   "source": [
    "pagerank_df = pd.read_csv('../Lab02/resultado/pagerank_result.csv')\n",
    "bitcoinotc_df =  pd.read_csv('../Lab02/resultado/soc-sign-bitcoinotc-filtrado.csv')"
   ]
  },
  {
   "cell_type": "code",
   "execution_count": 32,
   "metadata": {},
   "outputs": [
    {
     "data": {
      "text/html": [
       "<div>\n",
       "<style scoped>\n",
       "    .dataframe tbody tr th:only-of-type {\n",
       "        vertical-align: middle;\n",
       "    }\n",
       "\n",
       "    .dataframe tbody tr th {\n",
       "        vertical-align: top;\n",
       "    }\n",
       "\n",
       "    .dataframe thead th {\n",
       "        text-align: right;\n",
       "    }\n",
       "</style>\n",
       "<table border=\"1\" class=\"dataframe\">\n",
       "  <thead>\n",
       "    <tr style=\"text-align: right;\">\n",
       "      <th></th>\n",
       "      <th>NODE_ID</th>\n",
       "      <th>PAGE_RANK</th>\n",
       "    </tr>\n",
       "  </thead>\n",
       "  <tbody>\n",
       "    <tr>\n",
       "      <th>0</th>\n",
       "      <td>1</td>\n",
       "      <td>0.000139</td>\n",
       "    </tr>\n",
       "    <tr>\n",
       "      <th>1</th>\n",
       "      <td>2</td>\n",
       "      <td>0.000028</td>\n",
       "    </tr>\n",
       "    <tr>\n",
       "      <th>2</th>\n",
       "      <td>4098</td>\n",
       "      <td>0.000003</td>\n",
       "    </tr>\n",
       "    <tr>\n",
       "      <th>3</th>\n",
       "      <td>4</td>\n",
       "      <td>0.000037</td>\n",
       "    </tr>\n",
       "    <tr>\n",
       "      <th>4</th>\n",
       "      <td>3</td>\n",
       "      <td>0.000004</td>\n",
       "    </tr>\n",
       "  </tbody>\n",
       "</table>\n",
       "</div>"
      ],
      "text/plain": [
       "   NODE_ID  PAGE_RANK\n",
       "0        1   0.000139\n",
       "1        2   0.000028\n",
       "2     4098   0.000003\n",
       "3        4   0.000037\n",
       "4        3   0.000004"
      ]
     },
     "execution_count": 32,
     "metadata": {},
     "output_type": "execute_result"
    }
   ],
   "source": [
    "pagerank_df.head()"
   ]
  },
  {
   "cell_type": "code",
   "execution_count": 34,
   "metadata": {},
   "outputs": [
    {
     "data": {
      "text/html": [
       "<div>\n",
       "<style scoped>\n",
       "    .dataframe tbody tr th:only-of-type {\n",
       "        vertical-align: middle;\n",
       "    }\n",
       "\n",
       "    .dataframe tbody tr th {\n",
       "        vertical-align: top;\n",
       "    }\n",
       "\n",
       "    .dataframe thead th {\n",
       "        text-align: right;\n",
       "    }\n",
       "</style>\n",
       "<table border=\"1\" class=\"dataframe\">\n",
       "  <thead>\n",
       "    <tr style=\"text-align: right;\">\n",
       "      <th></th>\n",
       "      <th>SOURCE_ID</th>\n",
       "      <th>TARGET_ID</th>\n",
       "    </tr>\n",
       "  </thead>\n",
       "  <tbody>\n",
       "    <tr>\n",
       "      <th>0</th>\n",
       "      <td>13</td>\n",
       "      <td>16</td>\n",
       "    </tr>\n",
       "    <tr>\n",
       "      <th>1</th>\n",
       "      <td>13</td>\n",
       "      <td>10</td>\n",
       "    </tr>\n",
       "    <tr>\n",
       "      <th>2</th>\n",
       "      <td>21</td>\n",
       "      <td>1</td>\n",
       "    </tr>\n",
       "    <tr>\n",
       "      <th>3</th>\n",
       "      <td>21</td>\n",
       "      <td>10</td>\n",
       "    </tr>\n",
       "    <tr>\n",
       "      <th>4</th>\n",
       "      <td>21</td>\n",
       "      <td>8</td>\n",
       "    </tr>\n",
       "  </tbody>\n",
       "</table>\n",
       "</div>"
      ],
      "text/plain": [
       "   SOURCE_ID  TARGET_ID\n",
       "0         13         16\n",
       "1         13         10\n",
       "2         21          1\n",
       "3         21         10\n",
       "4         21          8"
      ]
     },
     "execution_count": 34,
     "metadata": {},
     "output_type": "execute_result"
    }
   ],
   "source": [
    "bitcoinotc_df.head()"
   ]
  },
  {
   "cell_type": "markdown",
   "metadata": {
    "collapsed": true
   },
   "source": [
    "## Questões"
   ]
  },
  {
   "cell_type": "markdown",
   "metadata": {},
   "source": [
    "### 1) Quantas iterações o PageRank precisou rodar até atingir convergência?\n",
    "Para saber o número de iterações necessárias que o PageRank precisou rodar até atingir a convergência, basta imprimir o valor da variável global **count** usada na função **pageRank(v)**, como vemos à seguir."
   ]
  },
  {
   "cell_type": "code",
   "execution_count": 14,
   "metadata": {},
   "outputs": [
    {
     "name": "stdout",
     "output_type": "stream",
     "text": [
      "Número de iterações 35\n"
     ]
    }
   ],
   "source": [
    "print(\"Número de iterações\", count)"
   ]
  },
  {
   "cell_type": "markdown",
   "metadata": {},
   "source": [
    "### 2) Quais os 5 investidores mais importantes segundo o PageRank? Quais seus valores de PageRank?\n",
    "Para responder à essa questão, basta ordenar os valores gerados de forma decrescente do valor de PageRank. Como vemos na tabela abaixo, na coluna NODE_ID temos o ID do investidor, e em seguida, vemos o seu valor de PageRank.\n",
    "<p>\n",
    "Para o investidor com maior PageRank, no caso o investidor com **ID=1**, seu PageRank vale **0.000139**. O restante pode ser visto na tabela gerada abaixo."
   ]
  },
  {
   "cell_type": "code",
   "execution_count": 25,
   "metadata": {},
   "outputs": [
    {
     "data": {
      "text/html": [
       "<div>\n",
       "<style scoped>\n",
       "    .dataframe tbody tr th:only-of-type {\n",
       "        vertical-align: middle;\n",
       "    }\n",
       "\n",
       "    .dataframe tbody tr th {\n",
       "        vertical-align: top;\n",
       "    }\n",
       "\n",
       "    .dataframe thead th {\n",
       "        text-align: right;\n",
       "    }\n",
       "</style>\n",
       "<table border=\"1\" class=\"dataframe\">\n",
       "  <thead>\n",
       "    <tr style=\"text-align: right;\">\n",
       "      <th></th>\n",
       "      <th>NODE_ID</th>\n",
       "      <th>PAGE_RANK</th>\n",
       "    </tr>\n",
       "  </thead>\n",
       "  <tbody>\n",
       "    <tr>\n",
       "      <th>0</th>\n",
       "      <td>1</td>\n",
       "      <td>0.000139</td>\n",
       "    </tr>\n",
       "    <tr>\n",
       "      <th>120</th>\n",
       "      <td>202</td>\n",
       "      <td>0.000125</td>\n",
       "    </tr>\n",
       "    <tr>\n",
       "      <th>94</th>\n",
       "      <td>144</td>\n",
       "      <td>0.000117</td>\n",
       "    </tr>\n",
       "    <tr>\n",
       "      <th>887</th>\n",
       "      <td>3996</td>\n",
       "      <td>0.000093</td>\n",
       "    </tr>\n",
       "    <tr>\n",
       "      <th>182</th>\n",
       "      <td>361</td>\n",
       "      <td>0.000092</td>\n",
       "    </tr>\n",
       "  </tbody>\n",
       "</table>\n",
       "</div>"
      ],
      "text/plain": [
       "     NODE_ID  PAGE_RANK\n",
       "0          1   0.000139\n",
       "120      202   0.000125\n",
       "94       144   0.000117\n",
       "887     3996   0.000093\n",
       "182      361   0.000092"
      ]
     },
     "execution_count": 25,
     "metadata": {},
     "output_type": "execute_result"
    }
   ],
   "source": [
    "pagerank_result.sort_values('PAGE_RANK', ascending=False).head()"
   ]
  },
  {
   "cell_type": "markdown",
   "metadata": {},
   "source": [
    "### 3) Como você poderia usar o PageRank caso você fosse um investidor em bitcoins?"
   ]
  },
  {
   "cell_type": "code",
   "execution_count": null,
   "metadata": {},
   "outputs": [],
   "source": []
  }
 ],
 "metadata": {
  "kernelspec": {
   "display_name": "Python 3",
   "language": "python",
   "name": "python3"
  },
  "language_info": {
   "codemirror_mode": {
    "name": "ipython",
    "version": 3
   },
   "file_extension": ".py",
   "mimetype": "text/x-python",
   "name": "python",
   "nbconvert_exporter": "python",
   "pygments_lexer": "ipython3",
   "version": "3.6.5"
  }
 },
 "nbformat": 4,
 "nbformat_minor": 2
}
