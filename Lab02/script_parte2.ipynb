{
 "cells": [
  {
   "cell_type": "markdown",
   "metadata": {},
   "source": [
    "# Recuperação da Informação e Busca na Web - 2018.1\n",
    "\n",
    "### Atividade: Lab 02 - Parte 2 - PageRank\n",
    "### Aluno: Johanny de Lucena Santos\n",
    "\n",
    "## - - - - - - - - - - - - - - - - - - - - - - - - - - - - - - - - - - - - - - - - - - \n",
    "\n",
    "Nesta atividade você vai exercitar o algoritmo PageRank. De forma específica, você vai fazer o seguinte:\n",
    "\n",
    "<ul>\n",
    "    <ul>\n",
    "        <li>Assistir o vídeo e (re)implementar o PageRank como descrito neste vídeo (Links para um site externo)Links para um site externo.\n",
    "\n",
    "<ul>\n",
    "    <li>É importante que você realmente digite o código durante o vídeo (pausando quando necessário), isso é mais efetivo para o aprendizado do que somente copiar e colar do github por exemplo. Tente entender o código, ele é bem próximo ao que foi explicado em sala de aula.</li>\n",
    "\n",
    "<li>Essa é somente uma das muitas implementações do PageRank disponíveis na Web. Você pode escolher outra se assim desejar.</li></ul>\n",
    "<p>   \n",
    "<li>Aplique sua implementação nos dados disponíveis em http://snap.stanford.edu/data/soc-sign-bitcoinotc.html. Esses dados representam links entre investidores de bitcoin. Cada investidor pode receber uma nota de acordo com outras pessoas que fizeram transações com ele(a). **Vamos considerar somente as pessoas que receberam notas iguais ou maior a oito. Ou seja, somente as arestas que tenham peso maior ou igual à oito**.\n",
    "    <p>\n",
    "<li>Uma vez calculado o PageRank, gere visualizações dos resultados usando a ferramenta Gephi (https://gephi.org/).\n",
    "   <br> \n",
    "    <br>\n",
    "Feitos os passos acima, responda as seguintes perguntas:\n",
    "<p>\n",
    "<li>Quantas iterações o PageRank precisou rodar até atingir convergência?</li>\n",
    "<li>Quais os 5 investidores mais importantes segundo o PageRank? Quais seus valores de PageRank?</li>\n",
    "<li>Como você poderia usar o PageRank caso você fosse um investidor em bitcoins?</li>"
   ]
  }
 ],
 "metadata": {
  "kernelspec": {
   "display_name": "Python 3",
   "language": "python",
   "name": "python3"
  },
  "language_info": {
   "codemirror_mode": {
    "name": "ipython",
    "version": 3
   },
   "file_extension": ".py",
   "mimetype": "text/x-python",
   "name": "python",
   "nbconvert_exporter": "python",
   "pygments_lexer": "ipython3",
   "version": "3.6.5"
  }
 },
 "nbformat": 4,
 "nbformat_minor": 2
}
