{
 "cells": [
  {
   "cell_type": "markdown",
   "metadata": {},
   "source": [
    "# Recuperação da Informação e Busca na Web - 2018.1\n",
    "\n",
    "### Atividade: Lab 02 - Parte 2 - PageRank\n",
    "### Aluno: Johanny de Lucena Santos\n",
    "\n",
    "## - - - - - - - - - - - - - - - - - - - - - - - - - - - - - - - - - - - - - - - - - - \n",
    "\n",
    "Nesta atividade você vai exercitar o algoritmo PageRank. De forma específica, você vai fazer o seguinte:\n",
    "\n",
    "<ul>\n",
    "    <ul>\n",
    "        <li>Assistir o vídeo e (re)implementar o PageRank como descrito neste vídeo (https://www.youtube.com/watch?v=zv4OVNWfVt4).\n",
    "\n",
    "<ul>\n",
    "    <li>É importante que você realmente digite o código durante o vídeo (pausando quando necessário), isso é mais efetivo para o aprendizado do que somente copiar e colar do github por exemplo. Tente entender o código, ele é bem próximo ao que foi explicado em sala de aula.</li>\n",
    "\n",
    "<li>Essa é somente uma das muitas implementações do PageRank disponíveis na Web. Você pode escolher outra se assim desejar.</li></ul>\n",
    "<p>   \n",
    "<li>Aplique sua implementação nos dados disponíveis em http://snap.stanford.edu/data/soc-sign-bitcoinotc.html. Esses dados representam links entre investidores de bitcoin. Cada investidor pode receber uma nota de acordo com outras pessoas que fizeram transações com ele(a). **Vamos considerar somente as pessoas que receberam notas iguais ou maior a oito. Ou seja, somente as arestas que tenham peso maior ou igual à oito**.\n",
    "    <p>\n",
    "<li>Uma vez calculado o PageRank, gere visualizações dos resultados usando a ferramenta Gephi (https://gephi.org/).\n",
    "   <br> \n",
    "    <br>\n",
    "Feitos os passos acima, responda as seguintes perguntas:\n",
    "<p>\n",
    "<li>Quantas iterações o PageRank precisou rodar até atingir convergência?</li>\n",
    "<li>Quais os 5 investidores mais importantes segundo o PageRank? Quais seus valores de PageRank?</li>\n",
    "<li>Como você poderia usar o PageRank caso você fosse um investidor em bitcoins?</li>"
   ]
  },
  {
   "cell_type": "markdown",
   "metadata": {},
   "source": [
    "### Source (citation)\n",
    "\n",
    "S. Kumar, F. Spezzano, V.S. Subrahmanian, C. Faloutsos. Edge Weight Prediction in Weighted Signed Networks. IEEE International Conference on Data Mining (ICDM), 2016."
   ]
  },
  {
   "cell_type": "markdown",
   "metadata": {},
   "source": [
    "### Importações"
   ]
  },
  {
   "cell_type": "code",
   "execution_count": 74,
   "metadata": {},
   "outputs": [],
   "source": [
    "import numpy as np\n",
    "import pandas as pd"
   ]
  },
  {
   "cell_type": "markdown",
   "metadata": {},
   "source": [
    "## Definição do dataset a ser utilizado\n",
    "Aqui eu defino o conjunto de dados a ser utilizado, incluindo os nomes das colunas, bem como removendo a coluna TIME, que será desnecessária para as manipulações do conjunto de dados."
   ]
  },
  {
   "cell_type": "code",
   "execution_count": 103,
   "metadata": {},
   "outputs": [],
   "source": [
    "dataset = pd.read_csv('../data/soc-sign-bitcoinotc.csv')\n",
    "dataset.columns = ['SOURCE_ID', 'TARGET_ID', 'RATING', 'TIME']\n",
    "dataset = dataset.drop('TIME', axis=1)"
   ]
  },
  {
   "cell_type": "markdown",
   "metadata": {},
   "source": [
    "### Prévia do dataset"
   ]
  },
  {
   "cell_type": "code",
   "execution_count": 117,
   "metadata": {},
   "outputs": [
    {
     "data": {
      "text/html": [
       "<div>\n",
       "<style scoped>\n",
       "    .dataframe tbody tr th:only-of-type {\n",
       "        vertical-align: middle;\n",
       "    }\n",
       "\n",
       "    .dataframe tbody tr th {\n",
       "        vertical-align: top;\n",
       "    }\n",
       "\n",
       "    .dataframe thead th {\n",
       "        text-align: right;\n",
       "    }\n",
       "</style>\n",
       "<table border=\"1\" class=\"dataframe\">\n",
       "  <thead>\n",
       "    <tr style=\"text-align: right;\">\n",
       "      <th></th>\n",
       "      <th>SOURCE_ID</th>\n",
       "      <th>TARGET_ID</th>\n",
       "      <th>RATING</th>\n",
       "    </tr>\n",
       "  </thead>\n",
       "  <tbody>\n",
       "    <tr>\n",
       "      <th>3</th>\n",
       "      <td>13</td>\n",
       "      <td>16</td>\n",
       "      <td>8</td>\n",
       "    </tr>\n",
       "    <tr>\n",
       "      <th>4</th>\n",
       "      <td>13</td>\n",
       "      <td>10</td>\n",
       "      <td>8</td>\n",
       "    </tr>\n",
       "    <tr>\n",
       "      <th>9</th>\n",
       "      <td>21</td>\n",
       "      <td>1</td>\n",
       "      <td>8</td>\n",
       "    </tr>\n",
       "    <tr>\n",
       "      <th>10</th>\n",
       "      <td>21</td>\n",
       "      <td>10</td>\n",
       "      <td>8</td>\n",
       "    </tr>\n",
       "    <tr>\n",
       "      <th>11</th>\n",
       "      <td>21</td>\n",
       "      <td>8</td>\n",
       "      <td>9</td>\n",
       "    </tr>\n",
       "  </tbody>\n",
       "</table>\n",
       "</div>"
      ],
      "text/plain": [
       "    SOURCE_ID  TARGET_ID  RATING\n",
       "3          13         16       8\n",
       "4          13         10       8\n",
       "9          21          1       8\n",
       "10         21         10       8\n",
       "11         21          8       9"
      ]
     },
     "execution_count": 117,
     "metadata": {},
     "output_type": "execute_result"
    }
   ],
   "source": [
    "dataset.head()"
   ]
  },
  {
   "cell_type": "markdown",
   "metadata": {},
   "source": [
    "### Filtragem dos dados\n",
    "Vamos considerar somente as pessoas que receberam notas iguais ou maior a oito. Ou seja, somente as arestas que tenham peso maior ou igual à oito (filtrar os dados para os elementos que possuem a coluna Rating maior ou igual a 8)"
   ]
  },
  {
   "cell_type": "code",
   "execution_count": 118,
   "metadata": {},
   "outputs": [
    {
     "data": {
      "text/html": [
       "<div>\n",
       "<style scoped>\n",
       "    .dataframe tbody tr th:only-of-type {\n",
       "        vertical-align: middle;\n",
       "    }\n",
       "\n",
       "    .dataframe tbody tr th {\n",
       "        vertical-align: top;\n",
       "    }\n",
       "\n",
       "    .dataframe thead th {\n",
       "        text-align: right;\n",
       "    }\n",
       "</style>\n",
       "<table border=\"1\" class=\"dataframe\">\n",
       "  <thead>\n",
       "    <tr style=\"text-align: right;\">\n",
       "      <th></th>\n",
       "      <th>SOURCE_ID</th>\n",
       "      <th>TARGET_ID</th>\n",
       "      <th>RATING</th>\n",
       "    </tr>\n",
       "  </thead>\n",
       "  <tbody>\n",
       "    <tr>\n",
       "      <th>3</th>\n",
       "      <td>13</td>\n",
       "      <td>16</td>\n",
       "      <td>8</td>\n",
       "    </tr>\n",
       "    <tr>\n",
       "      <th>4</th>\n",
       "      <td>13</td>\n",
       "      <td>10</td>\n",
       "      <td>8</td>\n",
       "    </tr>\n",
       "    <tr>\n",
       "      <th>9</th>\n",
       "      <td>21</td>\n",
       "      <td>1</td>\n",
       "      <td>8</td>\n",
       "    </tr>\n",
       "    <tr>\n",
       "      <th>10</th>\n",
       "      <td>21</td>\n",
       "      <td>10</td>\n",
       "      <td>8</td>\n",
       "    </tr>\n",
       "    <tr>\n",
       "      <th>11</th>\n",
       "      <td>21</td>\n",
       "      <td>8</td>\n",
       "      <td>9</td>\n",
       "    </tr>\n",
       "  </tbody>\n",
       "</table>\n",
       "</div>"
      ],
      "text/plain": [
       "    SOURCE_ID  TARGET_ID  RATING\n",
       "3          13         16       8\n",
       "4          13         10       8\n",
       "9          21          1       8\n",
       "10         21         10       8\n",
       "11         21          8       9"
      ]
     },
     "execution_count": 118,
     "metadata": {},
     "output_type": "execute_result"
    }
   ],
   "source": [
    "dataset    = dataset.loc[dataset['RATING'] >= 8]\n",
    "source_ids = list(dataset['SOURCE_ID'])\n",
    "target_ids = list(dataset['TARGET_ID'])\n",
    "nodes_ids  = list(set(source_ids).union(set(target_ids)))\n",
    "\n",
    "dataset.head()"
   ]
  },
  {
   "cell_type": "markdown",
   "metadata": {},
   "source": [
    "## Criando grafo de interação entre investidores de Bitcoins"
   ]
  },
  {
   "cell_type": "code",
   "execution_count": 129,
   "metadata": {},
   "outputs": [],
   "source": [
    "grafo = {node:[] for node in nodes_ids}\n",
    "\n",
    "for i in range(len(source_ids)):\n",
    "    src = source_ids[i]\n",
    "    tgt = target_ids[i]\n",
    "    grafo[src].append(tgt)"
   ]
  },
  {
   "cell_type": "markdown",
   "metadata": {},
   "source": [
    "## Gerando a matriz de adjacência\n",
    "Criando a matriz H inicialmente zerada, e em seguida, preenchemos com 1 todos que possuem links de saída, dividindo-o pelo número de links que saem dele, ou seja, o número de pessoas que investiram dele."
   ]
  },
  {
   "cell_type": "code",
   "execution_count": 135,
   "metadata": {},
   "outputs": [],
   "source": [
    "h = [[0 for i in range(len(nodes_ids))] for j in range(len(nodes_ids))]\n",
    "\n",
    "for i in range(len(nodes_ids)):\n",
    "    for j in range(len(nodes)):\n",
    "        src = nodes_ids[i]\n",
    "        tgt = nodes_ids[j]\n",
    "        links_saida = len(grafo[src])\n",
    "        \n",
    "        if (tgt in grafo[src]):\n",
    "            h[j][i] = float(1)/float(links_saida)\n",
    "        else:\n",
    "            h[j][i] = 0\n",
    "            \n",
    "h = np.matrix(h)"
   ]
  },
  {
   "cell_type": "markdown",
   "metadata": {},
   "source": [
    "### Calculo do PageRank\n",
    "Aqui, definimos o fator d = 0.15 e criamos a matriz B com todos os valores 1, e depois multiplicando por 1/n, onde n é o número de nós. Em seguida, calculamos o PageRank utilizando M = (1-d)*H + d*B"
   ]
  },
  {
   "cell_type": "code",
   "execution_count": 140,
   "metadata": {},
   "outputs": [],
   "source": [
    "d = 0.15\n",
    "fator = float(1)/float(len(nodes_ids))\n",
    "\n",
    "#Matriz temporaria com todos os valores em 1\n",
    "matriz_temp = np.matrix(\n",
    "    [[1 for i in range(len(nodes_ids))] for j in range(len(nodes_ids))]\n",
    ")\n",
    "\n",
    "b = fator * matriz_temp\n",
    "\n",
    "#Calculo do PageRank\n",
    "m = (1-d)*h + d*b\n",
    "\n",
    "#Matriz temporaria com uma coluna com valores 1\n",
    "matriz_temp2 = np.matrix([[1] for i in range(len(nodes_ids))])\n",
    "\n",
    "#Vetor v normalizado\n",
    "v = fator * matriz_temp2"
   ]
  },
  {
   "cell_type": "markdown",
   "metadata": {},
   "source": [
    "### Algoritmo PageRank\n",
    "Algoritmo utilizado para calcular todas as interações do PageRank. Ele calcua m * v até convergir. A diferença de convergência (soma da diferença de todos os elementos) é definida como 0.001. "
   ]
  },
  {
   "cell_type": "code",
   "execution_count": 142,
   "metadata": {},
   "outputs": [],
   "source": [
    "count = 0\n",
    "\n",
    "def pageRank(v):\n",
    "    \n",
    "    global count\n",
    "    \n",
    "    count += 1\n",
    "    \n",
    "    if sum(abs(m*v-v)) > 0.001:\n",
    "        return pageRank(m*v)\n",
    "    else:\n",
    "        return m*v"
   ]
  },
  {
   "cell_type": "markdown",
   "metadata": {},
   "source": [
    "### Gerando o resultado do PageRank\n",
    "Aqui usamos o algoritmo do PageRank para verificar o pageRank final do conjunto de dados e geramos o arquivo csv que será utilizado na ferramenta **Gephi** para gerar o gráfico de visualizações dos resultados. \n",
    "<p>\n",
    "Inicialmente, criamos o dataframe referente aos resultados do PageRank."
   ]
  },
  {
   "cell_type": "code",
   "execution_count": 156,
   "metadata": {},
   "outputs": [
    {
     "data": {
      "text/html": [
       "<div>\n",
       "<style scoped>\n",
       "    .dataframe tbody tr th:only-of-type {\n",
       "        vertical-align: middle;\n",
       "    }\n",
       "\n",
       "    .dataframe tbody tr th {\n",
       "        vertical-align: top;\n",
       "    }\n",
       "\n",
       "    .dataframe thead th {\n",
       "        text-align: right;\n",
       "    }\n",
       "</style>\n",
       "<table border=\"1\" class=\"dataframe\">\n",
       "  <thead>\n",
       "    <tr style=\"text-align: right;\">\n",
       "      <th></th>\n",
       "      <th>NODE_ID</th>\n",
       "      <th>PAGE_RANK</th>\n",
       "    </tr>\n",
       "  </thead>\n",
       "  <tbody>\n",
       "    <tr>\n",
       "      <th>0</th>\n",
       "      <td>1</td>\n",
       "      <td>0.000139</td>\n",
       "    </tr>\n",
       "    <tr>\n",
       "      <th>1</th>\n",
       "      <td>2</td>\n",
       "      <td>0.000028</td>\n",
       "    </tr>\n",
       "    <tr>\n",
       "      <th>2</th>\n",
       "      <td>4098</td>\n",
       "      <td>0.000003</td>\n",
       "    </tr>\n",
       "    <tr>\n",
       "      <th>3</th>\n",
       "      <td>4</td>\n",
       "      <td>0.000037</td>\n",
       "    </tr>\n",
       "    <tr>\n",
       "      <th>4</th>\n",
       "      <td>3</td>\n",
       "      <td>0.000004</td>\n",
       "    </tr>\n",
       "  </tbody>\n",
       "</table>\n",
       "</div>"
      ],
      "text/plain": [
       "   NODE_ID  PAGE_RANK\n",
       "0        1   0.000139\n",
       "1        2   0.000028\n",
       "2     4098   0.000003\n",
       "3        4   0.000037\n",
       "4        3   0.000004"
      ]
     },
     "execution_count": 156,
     "metadata": {},
     "output_type": "execute_result"
    }
   ],
   "source": [
    "resultado = pageRank(v)\n",
    "resultado = [cell.item(0,0) for cell in resultado]\n",
    "\n",
    "pagerank_result = pd.DataFrame({'NODE_ID':nodes_ids, 'PAGE_RANK':resultado})\n",
    "\n",
    "pagerank_result.head()"
   ]
  },
  {
   "cell_type": "markdown",
   "metadata": {},
   "source": [
    "### Criação do arquivo csv"
   ]
  },
  {
   "cell_type": "code",
   "execution_count": 158,
   "metadata": {},
   "outputs": [],
   "source": [
    "#pagerank_result.to_csv(path_or_buf='resultado/pagerank_result.csv', index=False)\n",
    "#dataset.to_csv(path_or_buf='resultado/soc-sign-bitcounotc-filtrado.csv', columns=['SOURCE_ID', 'TARGET_ID'], index=False)"
   ]
  },
  {
   "cell_type": "code",
   "execution_count": null,
   "metadata": {
    "collapsed": true
   },
   "outputs": [],
   "source": []
  }
 ],
 "metadata": {
  "kernelspec": {
   "display_name": "Python 3",
   "language": "python",
   "name": "python3"
  },
  "language_info": {
   "codemirror_mode": {
    "name": "ipython",
    "version": 3
   },
   "file_extension": ".py",
   "mimetype": "text/x-python",
   "name": "python",
   "nbconvert_exporter": "python",
   "pygments_lexer": "ipython3",
   "version": "3.6.5"
  }
 },
 "nbformat": 4,
 "nbformat_minor": 2
}
