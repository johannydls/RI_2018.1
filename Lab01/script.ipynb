{
 "cells": [
  {
   "cell_type": "code",
   "execution_count": 2,
   "metadata": {
    "collapsed": true
   },
   "outputs": [],
   "source": [
    "import csv\n",
    "import pandas as pd\n",
    "import nltk"
   ]
  },
  {
   "cell_type": "code",
   "execution_count": 3,
   "metadata": {
    "collapsed": true
   },
   "outputs": [],
   "source": [
    "dataset = pd.read_csv('data/noticias_estadao.csv', sep=',')"
   ]
  },
  {
   "cell_type": "code",
   "execution_count": 4,
   "metadata": {
    "collapsed": true
   },
   "outputs": [],
   "source": [
    "documentos = dataset.titulo + \" \" + dataset.conteudo"
   ]
  },
  {
   "cell_type": "code",
   "execution_count": 5,
   "metadata": {
    "collapsed": true
   },
   "outputs": [],
   "source": [
    "docIDs = dataset.idNoticia"
   ]
  },
  {
   "cell_type": "code",
   "execution_count": 6,
   "metadata": {
    "collapsed": true
   },
   "outputs": [],
   "source": [
    "indiceInvertido = {}"
   ]
  },
  {
   "cell_type": "code",
   "execution_count": 7,
   "metadata": {},
   "outputs": [
    {
     "name": "stdout",
     "output_type": "stream",
     "text": [
      "[nltk_data] Downloading package punkt to /home/johannyls/nltk_data...\n",
      "[nltk_data]   Unzipping tokenizers/punkt.zip.\n"
     ]
    },
    {
     "data": {
      "text/plain": [
       "True"
      ]
     },
     "execution_count": 7,
     "metadata": {},
     "output_type": "execute_result"
    }
   ],
   "source": [
    "nltk.download('punkt')"
   ]
  },
  {
   "cell_type": "code",
   "execution_count": 12,
   "metadata": {
    "collapsed": true
   },
   "outputs": [],
   "source": [
    "tokens = documentos.apply(nltk.word_tokenize)"
   ]
  },
  {
   "cell_type": "code",
   "execution_count": 13,
   "metadata": {
    "collapsed": true
   },
   "outputs": [],
   "source": [
    "def geraIndiceInvertido():\n",
    "    for i in range(len(tokens)):\n",
    "        idNoticia = docIDs[i]\n",
    "        palavras = tokens[i]\n",
    "    \n",
    "        for palavra in palavras:\n",
    "            if palavra.lower() not in indiceInvertido:\n",
    "                indiceInvertido[palavra.lower()] = [idNoticia]\n",
    "        \n",
    "            elif idNoticia not in indiceInvertido[palavra.lower()]:\n",
    "                indiceInvertido[palavra.lower()].append(idNoticia)"
   ]
  },
  {
   "cell_type": "code",
   "execution_count": 14,
   "metadata": {},
   "outputs": [],
   "source": [
    "geraIndiceInvertido()"
   ]
  },
  {
   "cell_type": "code",
   "execution_count": 15,
   "metadata": {
    "collapsed": true
   },
   "outputs": [],
   "source": [
    "def busca_1_termo(termo):\n",
    "    return indiceInvertido[termo.lower()] "
   ]
  },
  {
   "cell_type": "code",
   "execution_count": 45,
   "metadata": {},
   "outputs": [],
   "source": [
    "def busca_AND(termo1, termo2):\n",
    "    \n",
    "    resposta = []\n",
    "    \n",
    "    termo1_docIDs = busca_1_termo(termo1)\n",
    "    termo2_docIDs = busca_1_termo(termo2)\n",
    "    \n",
    "    p1 = 0\n",
    "    p2 = 0\n",
    "    \n",
    "    while p1 < len(termo1_docIDs) and p2 < len(termo2_docIDs):\n",
    "        \n",
    "        if (termo1_docIDs[p1] == termo2_docIDs[p2]):\n",
    "            resposta.append(termo1_docIDs[p1])\n",
    "            p1 += 1\n",
    "            p2 += 1\n",
    "        \n",
    "        elif (termo1_docIDs[p1] < termo2_docIDs[p2]):\n",
    "            p1 += 1\n",
    "        \n",
    "        else:\n",
    "            p2 += 1\n",
    "            \n",
    "    return resposta"
   ]
  },
  {
   "cell_type": "code",
   "execution_count": 79,
   "metadata": {},
   "outputs": [],
   "source": [
    "def busca_OR(termo1, termo2):\n",
    "    \n",
    "    resposta = []\n",
    "    \n",
    "    termo1_docIDs = busca_1_termo(termo1)\n",
    "    termo2_docIDs = busca_1_termo(termo2)\n",
    "    \n",
    "    for i in termo1_docIDs:\n",
    "        resposta.append(i)\n",
    "        \n",
    "    for i in termo2_docIDs:\n",
    "        resposta.append(i)\n",
    "        \n",
    "    return sorted(resposta)"
   ]
  },
  {
   "cell_type": "code",
   "execution_count": 75,
   "metadata": {
    "collapsed": true
   },
   "outputs": [],
   "source": [
    "def busca(termo1, termo2=None, operador=None):\n",
    "    \n",
    "    if (not termo2 and not operador):\n",
    "        return busca_1_termo(termo1)\n",
    "    \n",
    "    elif (operador.lower() == 'and'):\n",
    "        return busca_AND(termo1, termo2)\n",
    "    \n",
    "    elif (operador.lower() == 'or'):\n",
    "        return busca_OR(termo1, termo2)\n",
    "    else:\n",
    "        print(\"Apenas buscas 1-termo, AND e OR\")\n",
    "        return"
   ]
  },
  {
   "cell_type": "code",
   "execution_count": null,
   "metadata": {},
   "outputs": [],
   "source": []
  }
 ],
 "metadata": {
  "kernelspec": {
   "display_name": "Python 3",
   "language": "python",
   "name": "python3"
  },
  "language_info": {
   "codemirror_mode": {
    "name": "ipython",
    "version": 3
   },
   "file_extension": ".py",
   "mimetype": "text/x-python",
   "name": "python",
   "nbconvert_exporter": "python",
   "pygments_lexer": "ipython3",
   "version": "3.6.2"
  }
 },
 "nbformat": 4,
 "nbformat_minor": 2
}
