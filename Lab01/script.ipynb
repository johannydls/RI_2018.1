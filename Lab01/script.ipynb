{
 "cells": [
  {
   "cell_type": "code",
   "execution_count": 1,
   "metadata": {},
   "outputs": [],
   "source": [
    "import csv\n",
    "import pandas as pd\n",
    "import nltk"
   ]
  },
  {
   "cell_type": "code",
   "execution_count": 26,
   "metadata": {},
   "outputs": [],
   "source": [
    "dataset = pd.read_csv('data/noticias_estadao_antigo.csv', sep=',')"
   ]
  },
  {
   "cell_type": "code",
   "execution_count": 27,
   "metadata": {},
   "outputs": [],
   "source": [
    "documentos = dataset.titulo + \" \" + dataset.conteudo"
   ]
  },
  {
   "cell_type": "code",
   "execution_count": 28,
   "metadata": {},
   "outputs": [],
   "source": [
    "docIDs = dataset.idNoticia"
   ]
  },
  {
   "cell_type": "code",
   "execution_count": 29,
   "metadata": {},
   "outputs": [],
   "source": [
    "indiceInvertido = {}"
   ]
  },
  {
   "cell_type": "code",
   "execution_count": 30,
   "metadata": {},
   "outputs": [
    {
     "name": "stdout",
     "output_type": "stream",
     "text": [
      "[nltk_data] Downloading package punkt to\n",
      "[nltk_data]     C:\\Users\\JohannyLS\\AppData\\Roaming\\nltk_data...\n",
      "[nltk_data]   Package punkt is already up-to-date!\n"
     ]
    },
    {
     "data": {
      "text/plain": [
       "True"
      ]
     },
     "execution_count": 30,
     "metadata": {},
     "output_type": "execute_result"
    }
   ],
   "source": [
    "nltk.download('punkt')"
   ]
  },
  {
   "cell_type": "code",
   "execution_count": 31,
   "metadata": {},
   "outputs": [],
   "source": [
    "tokens = documentos.apply(nltk.word_tokenize)"
   ]
  },
  {
   "cell_type": "code",
   "execution_count": 32,
   "metadata": {},
   "outputs": [],
   "source": [
    "def geraIndiceInvertido():\n",
    "    for i in range(len(tokens)):\n",
    "        idNoticia = docIDs[i]\n",
    "        palavras = tokens[i]\n",
    "    \n",
    "        for palavra in palavras:\n",
    "            if palavra.lower() not in indiceInvertido:\n",
    "                indiceInvertido[palavra.lower()] = [idNoticia]\n",
    "        \n",
    "            elif idNoticia not in indiceInvertido[palavra.lower()]:\n",
    "                indiceInvertido[palavra.lower()].append(idNoticia)"
   ]
  },
  {
   "cell_type": "code",
   "execution_count": 33,
   "metadata": {},
   "outputs": [],
   "source": [
    "geraIndiceInvertido()"
   ]
  },
  {
   "cell_type": "code",
   "execution_count": 34,
   "metadata": {},
   "outputs": [],
   "source": [
    "def busca_1_termo(termo):\n",
    "    return indiceInvertido[termo.lower()] "
   ]
  },
  {
   "cell_type": "code",
   "execution_count": 35,
   "metadata": {},
   "outputs": [],
   "source": [
    "def busca_AND(termo1, termo2):\n",
    "    \n",
    "    resposta = []\n",
    "    \n",
    "    termo1_docIDs = busca_1_termo(termo1)\n",
    "    termo2_docIDs = busca_1_termo(termo2)\n",
    "    \n",
    "    p1 = 0\n",
    "    p2 = 0\n",
    "    \n",
    "    while p1 < len(termo1_docIDs) and p2 < len(termo2_docIDs):\n",
    "        \n",
    "        if (termo1_docIDs[p1] == termo2_docIDs[p2]):\n",
    "            resposta.append(termo1_docIDs[p1])\n",
    "            p1 += 1\n",
    "            p2 += 1\n",
    "        \n",
    "        elif (termo1_docIDs[p1] < termo2_docIDs[p2]):\n",
    "            p1 += 1\n",
    "        \n",
    "        else:\n",
    "            p2 += 1\n",
    "            \n",
    "    return resposta"
   ]
  },
  {
   "cell_type": "code",
   "execution_count": 36,
   "metadata": {},
   "outputs": [],
   "source": [
    "def busca_OR(termo1, termo2):\n",
    "    \n",
    "    resposta = []\n",
    "    \n",
    "    termo1_docIDs = busca_1_termo(termo1)\n",
    "    termo2_docIDs = busca_1_termo(termo2)\n",
    "    \n",
    "    for i in termo1_docIDs:\n",
    "        resposta.append(i)\n",
    "        \n",
    "    for i in termo2_docIDs:\n",
    "        resposta.append(i)\n",
    "        \n",
    "    return sorted(resposta)"
   ]
  },
  {
   "cell_type": "code",
   "execution_count": 37,
   "metadata": {},
   "outputs": [],
   "source": [
    "def busca(termo1, termo2=None, operador=None):\n",
    "    \n",
    "    if (not termo2 and not operador):\n",
    "        return busca_1_termo(termo1)\n",
    "    \n",
    "    elif (operador.lower() == 'and'):\n",
    "        return busca_AND(termo1, termo2)\n",
    "    \n",
    "    elif (operador.lower() == 'or'):\n",
    "        return busca_OR(termo1, termo2)\n",
    "    else:\n",
    "        print(\"Apenas buscas 1-termo, AND e OR\")\n",
    "        return"
   ]
  },
  {
   "cell_type": "code",
   "execution_count": 53,
   "metadata": {},
   "outputs": [
    {
     "data": {
      "text/plain": [
       "[1068, 1370, 1770, 1952, 1987, 2763, 2777, 2779, 4802, 5382, 5870, 6694]"
      ]
     },
     "execution_count": 53,
     "metadata": {},
     "output_type": "execute_result"
    }
   ],
   "source": [
    "busca('Campina','Grande','AND')"
   ]
  },
  {
   "cell_type": "code",
   "execution_count": null,
   "metadata": {},
   "outputs": [],
   "source": [
    "#assert len(busca('debate', 'presidencial', 'or')) == 1770"
   ]
  },
  {
   "cell_type": "code",
   "execution_count": 49,
   "metadata": {},
   "outputs": [],
   "source": [
    "assert len(busca('debate', 'presidencial', 'and')) == 201"
   ]
  },
  {
   "cell_type": "code",
   "execution_count": null,
   "metadata": {},
   "outputs": [],
   "source": [
    "#assert len(busca('presidenciáveis', 'corruptos', 'or')) == 164"
   ]
  },
  {
   "cell_type": "code",
   "execution_count": 51,
   "metadata": {},
   "outputs": [],
   "source": [
    "assert len(busca('presidenciáveis', 'corruptos', 'and')) == 0"
   ]
  },
  {
   "cell_type": "code",
   "execution_count": null,
   "metadata": {},
   "outputs": [],
   "source": [
    "#assert len(busca('Belo', 'Horizonte', 'or')) == 331"
   ]
  },
  {
   "cell_type": "code",
   "execution_count": 52,
   "metadata": {},
   "outputs": [],
   "source": [
    "assert len(busca('Belo', 'Horizonte', 'and')) == 242"
   ]
  }
 ],
 "metadata": {
  "kernelspec": {
   "display_name": "Python 3",
   "language": "python",
   "name": "python3"
  },
  "language_info": {
   "codemirror_mode": {
    "name": "ipython",
    "version": 3
   },
   "file_extension": ".py",
   "mimetype": "text/x-python",
   "name": "python",
   "nbconvert_exporter": "python",
   "pygments_lexer": "ipython3",
   "version": "3.6.4"
  }
 },
 "nbformat": 4,
 "nbformat_minor": 2
}
